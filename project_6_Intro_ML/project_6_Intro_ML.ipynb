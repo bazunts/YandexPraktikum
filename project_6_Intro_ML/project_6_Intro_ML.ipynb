{
 "cells": [
  {
   "cell_type": "markdown",
   "metadata": {},
   "source": [
    "# Проект №6 - Введение в машинное обучение"
   ]
  },
  {
   "cell_type": "markdown",
   "metadata": {},
   "source": [
    "# Рекомендация тарифов"
   ]
  },
  {
   "cell_type": "markdown",
   "metadata": {},
   "source": [
    "В вашем распоряжении данные о поведении клиентов, которые уже перешли на эти тарифы (из проекта курса «Статистический анализ данных»). Нужно построить модель для задачи классификации, которая выберет подходящий тариф. Предобработка данных не понадобится — вы её уже сделали.\n",
    "\n",
    "Постройте модель с максимально большим значением *accuracy*. Чтобы сдать проект успешно, нужно довести долю правильных ответов по крайней мере до 0.75. Проверьте *accuracy* на тестовой выборке самостоятельно."
   ]
  },
  {
   "cell_type": "markdown",
   "metadata": {},
   "source": [
    "## 1. Откройте и изучите файл"
   ]
  },
  {
   "cell_type": "code",
   "execution_count": 62,
   "metadata": {},
   "outputs": [],
   "source": [
    "import pandas as pd\n",
    "import seaborn as sns\n",
    "sns.set()\n",
    "#модуль для разделения выборки\n",
    "from sklearn.model_selection import train_test_split\n",
    "#модуль для получения структуры данных для классификации деревом решений\n",
    "from sklearn.tree import DecisionTreeClassifier\n",
    "#модуль метрик качества\n",
    "from sklearn.metrics import accuracy_score\n",
    "#модуль для работы со структурой данных \"Случайный лес\"\n",
    "from sklearn.ensemble import RandomForestClassifier\n",
    "#инициализация модели логистической регрессии\n",
    "from sklearn.linear_model import LogisticRegression\n",
    "import matplotlib.pyplot as plt\n",
    "import operator"
   ]
  },
  {
   "cell_type": "code",
   "execution_count": 63,
   "metadata": {},
   "outputs": [
    {
     "data": {
      "text/html": [
       "<div>\n",
       "<style scoped>\n",
       "    .dataframe tbody tr th:only-of-type {\n",
       "        vertical-align: middle;\n",
       "    }\n",
       "\n",
       "    .dataframe tbody tr th {\n",
       "        vertical-align: top;\n",
       "    }\n",
       "\n",
       "    .dataframe thead th {\n",
       "        text-align: right;\n",
       "    }\n",
       "</style>\n",
       "<table border=\"1\" class=\"dataframe\">\n",
       "  <thead>\n",
       "    <tr style=\"text-align: right;\">\n",
       "      <th></th>\n",
       "      <th>calls</th>\n",
       "      <th>minutes</th>\n",
       "      <th>messages</th>\n",
       "      <th>mb_used</th>\n",
       "      <th>is_ultra</th>\n",
       "    </tr>\n",
       "  </thead>\n",
       "  <tbody>\n",
       "    <tr>\n",
       "      <td>0</td>\n",
       "      <td>40.0</td>\n",
       "      <td>311.90</td>\n",
       "      <td>83.0</td>\n",
       "      <td>19915.42</td>\n",
       "      <td>0</td>\n",
       "    </tr>\n",
       "    <tr>\n",
       "      <td>1</td>\n",
       "      <td>85.0</td>\n",
       "      <td>516.75</td>\n",
       "      <td>56.0</td>\n",
       "      <td>22696.96</td>\n",
       "      <td>0</td>\n",
       "    </tr>\n",
       "    <tr>\n",
       "      <td>2</td>\n",
       "      <td>77.0</td>\n",
       "      <td>467.66</td>\n",
       "      <td>86.0</td>\n",
       "      <td>21060.45</td>\n",
       "      <td>0</td>\n",
       "    </tr>\n",
       "    <tr>\n",
       "      <td>3</td>\n",
       "      <td>106.0</td>\n",
       "      <td>745.53</td>\n",
       "      <td>81.0</td>\n",
       "      <td>8437.39</td>\n",
       "      <td>1</td>\n",
       "    </tr>\n",
       "    <tr>\n",
       "      <td>4</td>\n",
       "      <td>66.0</td>\n",
       "      <td>418.74</td>\n",
       "      <td>1.0</td>\n",
       "      <td>14502.75</td>\n",
       "      <td>0</td>\n",
       "    </tr>\n",
       "  </tbody>\n",
       "</table>\n",
       "</div>"
      ],
      "text/plain": [
       "   calls  minutes  messages   mb_used  is_ultra\n",
       "0   40.0   311.90      83.0  19915.42         0\n",
       "1   85.0   516.75      56.0  22696.96         0\n",
       "2   77.0   467.66      86.0  21060.45         0\n",
       "3  106.0   745.53      81.0   8437.39         1\n",
       "4   66.0   418.74       1.0  14502.75         0"
      ]
     },
     "execution_count": 63,
     "metadata": {},
     "output_type": "execute_result"
    }
   ],
   "source": [
    "df = pd.read_csv('/datasets/users_behavior.csv')\n",
    "df.head()"
   ]
  },
  {
   "cell_type": "code",
   "execution_count": 64,
   "metadata": {},
   "outputs": [
    {
     "name": "stdout",
     "output_type": "stream",
     "text": [
      "<class 'pandas.core.frame.DataFrame'>\n",
      "RangeIndex: 3214 entries, 0 to 3213\n",
      "Data columns (total 5 columns):\n",
      "calls       3214 non-null float64\n",
      "minutes     3214 non-null float64\n",
      "messages    3214 non-null float64\n",
      "mb_used     3214 non-null float64\n",
      "is_ultra    3214 non-null int64\n",
      "dtypes: float64(4), int64(1)\n",
      "memory usage: 125.7 KB\n"
     ]
    }
   ],
   "source": [
    "df.info()"
   ]
  },
  {
   "cell_type": "code",
   "execution_count": 65,
   "metadata": {},
   "outputs": [
    {
     "name": "stdout",
     "output_type": "stream",
     "text": [
      "<class 'pandas.core.frame.DataFrame'>\n",
      "RangeIndex: 3214 entries, 0 to 3213\n",
      "Data columns (total 5 columns):\n",
      "calls       3214 non-null int64\n",
      "minutes     3214 non-null float64\n",
      "messages    3214 non-null int64\n",
      "mb_used     3214 non-null float64\n",
      "is_ultra    3214 non-null int64\n",
      "dtypes: float64(2), int64(3)\n",
      "memory usage: 125.7 KB\n"
     ]
    }
   ],
   "source": [
    "df.calls = df.calls.astype('int64')\n",
    "df.messages = df.messages.astype('int64')\n",
    "df.info()"
   ]
  },
  {
   "cell_type": "markdown",
   "metadata": {},
   "source": [
    "### Описание данных\n",
    "\n",
    "\n",
    "Каждый объект в наборе данных — это информация о поведении одного пользователя за месяц. Известно:\n",
    "* сalls — количество звонков,\n",
    "* minutes — суммарная длительность звонков в минутах,\n",
    "* messages — количество sms-сообщений,\n",
    "* mb_used — израсходованный интернет-трафик в Мб,\n",
    "* is_ultra — каким тарифом пользовался в течение месяца («Ультра» — 1, «Смарт» — 0)."
   ]
  },
  {
   "cell_type": "markdown",
   "metadata": {},
   "source": [
    "## Вывод\n",
    "\n",
    "Тип данных у количества звонков и количества сообщений должен быть целочисленный - корректировка внесена. Объём датасета 3214 записей. Т.к данные уже предобработаны, то можно начинать их анализировать."
   ]
  },
  {
   "cell_type": "markdown",
   "metadata": {},
   "source": [
    "## 2. Разбейте данные на выборки"
   ]
  },
  {
   "cell_type": "markdown",
   "metadata": {},
   "source": [
    "Разабьём данные на обучающую, тестовую, валидационную выборки в соотношении 3:1:1."
   ]
  },
  {
   "cell_type": "code",
   "execution_count": 66,
   "metadata": {},
   "outputs": [
    {
     "name": "stdout",
     "output_type": "stream",
     "text": [
      "The size of training sample - (2410, 5)\n",
      "The size of testing sample - (402, 5)\n",
      "The size of validation sample - (402, 5)\n"
     ]
    }
   ],
   "source": [
    "df_teach, df_other = train_test_split(df, test_size=.25, random_state=12345)\n",
    "df_test, df_valid = train_test_split(df_other, test_size=.5, random_state=12345)\n",
    "print('The size of training sample -', df_teach.shape) # 75% data sets\n",
    "print('The size of testing sample -', df_test.shape) # 12.5% datasets\n",
    "print('The size of validation sample -', df_valid.shape) #12.5# data sets"
   ]
  },
  {
   "cell_type": "code",
   "execution_count": 67,
   "metadata": {},
   "outputs": [
    {
     "data": {
      "text/html": [
       "<div>\n",
       "<style scoped>\n",
       "    .dataframe tbody tr th:only-of-type {\n",
       "        vertical-align: middle;\n",
       "    }\n",
       "\n",
       "    .dataframe tbody tr th {\n",
       "        vertical-align: top;\n",
       "    }\n",
       "\n",
       "    .dataframe thead th {\n",
       "        text-align: right;\n",
       "    }\n",
       "</style>\n",
       "<table border=\"1\" class=\"dataframe\">\n",
       "  <thead>\n",
       "    <tr style=\"text-align: right;\">\n",
       "      <th></th>\n",
       "      <th>calls</th>\n",
       "      <th>minutes</th>\n",
       "      <th>messages</th>\n",
       "      <th>mb_used</th>\n",
       "    </tr>\n",
       "  </thead>\n",
       "  <tbody>\n",
       "    <tr>\n",
       "      <td>101</td>\n",
       "      <td>107</td>\n",
       "      <td>804.97</td>\n",
       "      <td>66</td>\n",
       "      <td>17935.91</td>\n",
       "    </tr>\n",
       "    <tr>\n",
       "      <td>1915</td>\n",
       "      <td>69</td>\n",
       "      <td>429.68</td>\n",
       "      <td>28</td>\n",
       "      <td>17314.66</td>\n",
       "    </tr>\n",
       "    <tr>\n",
       "      <td>88</td>\n",
       "      <td>48</td>\n",
       "      <td>331.33</td>\n",
       "      <td>0</td>\n",
       "      <td>8000.36</td>\n",
       "    </tr>\n",
       "    <tr>\n",
       "      <td>1348</td>\n",
       "      <td>69</td>\n",
       "      <td>528.67</td>\n",
       "      <td>47</td>\n",
       "      <td>22323.98</td>\n",
       "    </tr>\n",
       "    <tr>\n",
       "      <td>2264</td>\n",
       "      <td>51</td>\n",
       "      <td>310.77</td>\n",
       "      <td>22</td>\n",
       "      <td>24936.54</td>\n",
       "    </tr>\n",
       "  </tbody>\n",
       "</table>\n",
       "</div>"
      ],
      "text/plain": [
       "      calls  minutes  messages   mb_used\n",
       "101     107   804.97        66  17935.91\n",
       "1915     69   429.68        28  17314.66\n",
       "88       48   331.33         0   8000.36\n",
       "1348     69   528.67        47  22323.98\n",
       "2264     51   310.77        22  24936.54"
      ]
     },
     "execution_count": 67,
     "metadata": {},
     "output_type": "execute_result"
    }
   ],
   "source": [
    "#для обучающей выборки\n",
    "features = df_teach.drop('is_ultra', axis=1)\n",
    "target = df_teach['is_ultra']\n",
    "#для тестовой выборки\n",
    "features_test = df_test.drop('is_ultra', axis=1)\n",
    "target_test = df_test['is_ultra']\n",
    "#для валидационной выборки\n",
    "features_valid = df_valid.drop('is_ultra', axis=1)\n",
    "target_valid = df_valid['is_ultra']\n",
    "\n",
    "#предпросмотр\n",
    "features.head()"
   ]
  },
  {
   "cell_type": "markdown",
   "metadata": {},
   "source": [
    "## 3. Исследуйте модели"
   ]
  },
  {
   "cell_type": "markdown",
   "metadata": {},
   "source": [
    "Воспользуемся тремя основными моделями: дерево решения, случайный лес и логистическая регрессия."
   ]
  },
  {
   "cell_type": "markdown",
   "metadata": {},
   "source": [
    "### Дерево решения"
   ]
  },
  {
   "cell_type": "code",
   "execution_count": 68,
   "metadata": {},
   "outputs": [
    {
     "name": "stdout",
     "output_type": "stream",
     "text": [
      "depth: (valid sample) 9, (teach sample) 25;\n",
      "accuracy: (valid sample) 0.7985, (teach sample) 0.7214\n"
     ]
    },
    {
     "data": {
      "image/png": "[encoded data removed]",
      "text/plain": [
       "<Figure size 1296x360 with 1 Axes>"
      ]
     },
     "metadata": {},
     "output_type": "display_data"
    }
   ],
   "source": [
    "ac_depth={}\n",
    "ac_depth_teach_sample={}\n",
    "for depth in range(1,50):\n",
    "    model_tree = DecisionTreeClassifier(random_state=12345, max_depth=depth)\n",
    "    model_tree.fit(features, target)\n",
    "    predictions = model_tree.predict(features_valid)\n",
    "    accuracy = round(accuracy_score(target_valid, predictions),4)\n",
    "    accuracy_teach_sample = round(model_tree.score(features, target),4)\n",
    "    ac_depth[depth] = accuracy\n",
    "    ac_depth_teach_sample[depth] = accuracy_teach_sample\n",
    "    \n",
    "print('depth: (valid sample) {}, (teach sample) {};\\n\\\n",
    "accuracy: (valid sample) {:.4f}, (teach sample) {:.4f}'\\\n",
    "      .format(\\\n",
    "              max(ac_depth.items(),key=operator.itemgetter(1))[0],\\\n",
    "              max(ac_depth_teach_sample.items(),key=operator.itemgetter(1))[0],\\\n",
    "              ac_depth[max(ac_depth.items(),key=operator.itemgetter(1))[0]],\\\n",
    "              ac_depth[max(ac_depth_teach_sample.items(),key=operator.itemgetter(1))[0]],\\\n",
    "             )\\\n",
    "     )\n",
    "#plt.figure(figsize=(20,5))\n",
    "\n",
    "pd.Series(ac_depth).plot.bar(ylim=(.7,.85),figsize=(18,5))\n",
    "pd.Series(ac_depth_teach_sample).plot.line(ylim=(.7,.99),figsize=(18,5), color='red')\n",
    "plt.xticks(rotation=65, horizontalalignment='right');"
   ]
  },
  {
   "cell_type": "markdown",
   "metadata": {},
   "source": [
    "### Вывод\n",
    "\n",
    "Глубина решеющего дерева не должна быть больше 9, т.к. соглачно графику при глубине выше 9, наступает перобучение и качество модели падает, что явно видно на графике. Значит достижимый уровень accuracy с помощью решающего дерева 0.7985, при гиперпараметре max_depth=9."
   ]
  },
  {
   "cell_type": "markdown",
   "metadata": {},
   "source": [
    "### Случайный лес\n"
   ]
  },
  {
   "cell_type": "code",
   "execution_count": 69,
   "metadata": {},
   "outputs": [
    {
     "name": "stdout",
     "output_type": "stream",
     "text": [
      "estim: (valid sample) 26, (teach sample) 61;\n",
      "accuracy: (valid sample) 0.7935, (teach sample) 1.0000\n"
     ]
    },
    {
     "data": {
      "image/png": "[encoded data removed]",
      "text/plain": [
       "<Figure size 1296x360 with 1 Axes>"
      ]
     },
     "metadata": {},
     "output_type": "display_data"
    }
   ],
   "source": [
    "ac_estim = {}\n",
    "ac_estim_teach_sample = {}\n",
    "for estim in range (1,91,5):\n",
    "    model_forest = RandomForestClassifier(random_state=12345,n_estimators=estim)\n",
    "    model_forest.fit(features, target)\n",
    "    predictions = model_forest.predict(features_valid)\n",
    "    score = round(model_forest.score(features_valid, target_valid),4)\n",
    "    ac_estim[estim] = score\n",
    "\n",
    "    score = round(model_forest.score(features, target),4)\n",
    "    ac_estim_teach_sample[estim] = score\n",
    "\n",
    "print('estim: (valid sample) {}, (teach sample) {};\\n\\\n",
    "accuracy: (valid sample) {:.4f}, (teach sample) {:.4f}'\\\n",
    "      .format(\\\n",
    "              max(ac_estim.items(),key=operator.itemgetter(1))[0],\\\n",
    "              max(ac_estim_teach_sample.items(),key=operator.itemgetter(1))[0],\\\n",
    "              ac_estim[max(ac_estim.items(),key=operator.itemgetter(1))[0]],\\\n",
    "              ac_estim_teach_sample[max(ac_estim_teach_sample.items(),key=operator.itemgetter(1))[0]]\\\n",
    "             )\\\n",
    "     )\n",
    "\n",
    "#ac_estim.values.max()\n",
    "pd.Series(ac_estim_teach_sample).plot.line(ylim=(.7,.99),figsize=(18,5), color='red')\n",
    "#plt.show()\n",
    "pd.Series(ac_estim).plot.bar(ylim=(.7,.99), figsize=(18,5));\n",
    "plt.show()"
   ]
  },
  {
   "cell_type": "markdown",
   "metadata": {},
   "source": [
    "Исследуем влияние глубины обучения деревьев"
   ]
  },
  {
   "cell_type": "code",
   "execution_count": 70,
   "metadata": {},
   "outputs": [
    {
     "name": "stdout",
     "output_type": "stream",
     "text": [
      "estim: (valid sample) 26, (teach sample) 61;\n",
      "max_depth: (valid sample) 9, (teach sample) 23;\n",
      "accuracy: (valid sample) 0.8109, (teach sample) 0.9971\n"
     ]
    },
    {
     "data": {
      "image/png": "[encoded data removed]",
      "text/plain": [
       "<Figure size 1296x360 with 1 Axes>"
      ]
     },
     "metadata": {},
     "output_type": "display_data"
    }
   ],
   "source": [
    "ac_depth = {}\n",
    "ac_depth_teach_sample = {}\n",
    "for depth in range (1,50):\n",
    "    model_forest = RandomForestClassifier(random_state=12345,n_estimators=26, max_depth=depth)\n",
    "    model_forest.fit(features, target)\n",
    "    predictions = model_forest.predict(features_valid)\n",
    "    score = round(model_forest.score(features_valid, target_valid),4)\n",
    "    ac_depth[depth] = score\n",
    "\n",
    "    score = round(model_forest.score(features, target),4)\n",
    "    ac_depth_teach_sample[depth] = score\n",
    "\n",
    "print('estim: (valid sample) 26, (teach sample) 61;\\n\\\n",
    "max_depth: (valid sample) {}, (teach sample) {};\\n\\\n",
    "accuracy: (valid sample) {:.4f}, (teach sample) {:.4f}'\\\n",
    "      .format(\\\n",
    "              max(ac_depth.items(),key=operator.itemgetter(1))[0],\\\n",
    "              max(ac_depth_teach_sample.items(),key=operator.itemgetter(1))[0],\\\n",
    "              ac_depth[max(ac_depth.items(),key=operator.itemgetter(1))[0]],\\\n",
    "              ac_depth_teach_sample[max(ac_depth_teach_sample.items(),key=operator.itemgetter(1))[0]],\\\n",
    "             )\\\n",
    "     )\n",
    "\n",
    "#ac_estim.values.max()\n",
    "pd.Series(ac_depth_teach_sample).plot.line(ylim=(.7,.99),figsize=(18,5), color='red')\n",
    "#plt.show()\n",
    "pd.Series(ac_depth).plot.bar(ylim=(.7,.99), figsize=(18,5));\n",
    "plt.show()"
   ]
  },
  {
   "cell_type": "markdown",
   "metadata": {},
   "source": [
    "### !!!Внимание!!!\n",
    "Цикл в следующей ячейке отрабатывает __1 час 11 минут__\n",
    "\n",
    "### Описание:\n",
    "В следующем цикле идёт поиск оптимальных гиперпараметров с достижением экстремума(максимума) по метрике accuracyю Перебор идёт по следующим гиперпараметрам: критерий вершины, n_estimators (количество деревьев), глубина обучения деревьев, функция разбиения\n"
   ]
  },
  {
   "cell_type": "code",
   "execution_count": 71,
   "metadata": {},
   "outputs": [
    {
     "name": "stdout",
     "output_type": "stream",
     "text": [
      "Следующий цикл будет отрабатывать 1 час 11 минут, вы уверены, что готовы его запустить:\n",
      "Введите \"1\", если готовы\n",
      "Введите \"0\", усли хотите его пропустить\n",
      "\n",
      "0\n",
      "\n",
      "\n",
      "!!!!!!!!!!\n",
      "Цикл пропущен\n",
      "CPU times: user 4 ms, sys: 4 ms, total: 8 ms\n",
      "Wall time: 17.8 s\n"
     ]
    }
   ],
   "source": [
    "%%time\n",
    "\n",
    "user_check = int(input('Следующий цикл будет отрабатывать 1 час 11 минут, вы уверены, что готовы его запустить:\\n\\\n",
    "Введите \"1\", если готовы\\n\\\n",
    "Введите \"0\", усли хотите его пропустить\\n\\n'))\n",
    "\n",
    "if user_check==1:\n",
    "    print('\\n\\n!!!!!!!!!!\\nЗапущен цикл на 1 час 11 минут')\n",
    "    counter=0\n",
    "    stat = pd.DataFrame(columns=['criterion', 'estim','depth','features','accuracy'])\n",
    "    for criterion in ['gini', 'entropy']:\n",
    "        for estim in range(1,50):\n",
    "            for depth in range(1,50):\n",
    "                for f in ['auto', 'sqrt', 'log2',  None]:\n",
    "                    model_forest = RandomForestClassifier(\\\n",
    "                                                          criterion = criterion,\\\n",
    "                                                          random_state=12345\\\n",
    "                                                          , n_estimators=estim\\\n",
    "                                                          , max_depth=depth\\\n",
    "                                                          , max_features=f\\\n",
    "                                                         )\n",
    "                    model_forest.fit(features, target)\n",
    "                    predictions = model_forest.predict(features_valid)\n",
    "                    accuracy = round(accuracy_score(target_valid, predictions),8)\n",
    "                    #score = round(model_forest.score(features_valid, target_valid),8)\n",
    "\n",
    "                    stat.loc[counter]=[criterion,estim,depth,f,accuracy]\n",
    "                    counter += 1\n",
    "    print('Максимальное значение accuracy -',stat.accuracy.max()) \n",
    "else:\n",
    "    print('\\n\\n!!!!!!!!!!\\nЦикл пропущен')          "
   ]
  },
  {
   "cell_type": "code",
   "execution_count": 72,
   "metadata": {},
   "outputs": [
    {
     "data": {
      "text/plain": [
       "0.81343284"
      ]
     },
     "execution_count": 72,
     "metadata": {},
     "output_type": "execute_result"
    }
   ],
   "source": [
    "stat.accuracy.max()"
   ]
  },
  {
   "cell_type": "code",
   "execution_count": 73,
   "metadata": {},
   "outputs": [
    {
     "data": {
      "text/html": [
       "<div>\n",
       "<style scoped>\n",
       "    .dataframe tbody tr th:only-of-type {\n",
       "        vertical-align: middle;\n",
       "    }\n",
       "\n",
       "    .dataframe tbody tr th {\n",
       "        vertical-align: top;\n",
       "    }\n",
       "\n",
       "    .dataframe thead th {\n",
       "        text-align: right;\n",
       "    }\n",
       "</style>\n",
       "<table border=\"1\" class=\"dataframe\">\n",
       "  <thead>\n",
       "    <tr style=\"text-align: right;\">\n",
       "      <th></th>\n",
       "      <th>criterion</th>\n",
       "      <th>estim</th>\n",
       "      <th>depth</th>\n",
       "      <th>features</th>\n",
       "      <th>accuracy</th>\n",
       "    </tr>\n",
       "  </thead>\n",
       "  <tbody>\n",
       "    <tr>\n",
       "      <td>2780</td>\n",
       "      <td>gini</td>\n",
       "      <td>15</td>\n",
       "      <td>10</td>\n",
       "      <td>auto</td>\n",
       "      <td>0.813433</td>\n",
       "    </tr>\n",
       "    <tr>\n",
       "      <td>2781</td>\n",
       "      <td>gini</td>\n",
       "      <td>15</td>\n",
       "      <td>10</td>\n",
       "      <td>sqrt</td>\n",
       "      <td>0.813433</td>\n",
       "    </tr>\n",
       "    <tr>\n",
       "      <td>2782</td>\n",
       "      <td>gini</td>\n",
       "      <td>15</td>\n",
       "      <td>10</td>\n",
       "      <td>log2</td>\n",
       "      <td>0.813433</td>\n",
       "    </tr>\n",
       "  </tbody>\n",
       "</table>\n",
       "</div>"
      ],
      "text/plain": [
       "     criterion  estim depth features  accuracy\n",
       "2780      gini     15    10     auto  0.813433\n",
       "2781      gini     15    10     sqrt  0.813433\n",
       "2782      gini     15    10     log2  0.813433"
      ]
     },
     "execution_count": 73,
     "metadata": {},
     "output_type": "execute_result"
    }
   ],
   "source": [
    "stat['estim'] = stat['estim'].astype('int64')\n",
    "temp_stat = stat[(stat['accuracy']==stat.accuracy.max())]\n",
    "temp_stat[(temp_stat['estim']==temp_stat.estim.min())]"
   ]
  },
  {
   "cell_type": "markdown",
   "metadata": {},
   "source": [
    "### Вывод\n",
    "Максимальное значение доступно при критерии - \"джини\", количеством деревьев - 15, глубины 10 и features - (*с любым параметром*). При другом критерии - \"энтропия\", также можно достигнуть accuracy уровня 0.8134, но с большим количеством деревьев и большей глубиной обучения деревьев.\n",
    "Но стоит заметить, что точность начинает совпадать на уровне сотой и без перебора всех параметров, достаточно найти нужное количество деревьев, а затем найти нужную глубину, но данное решение не будет оптимальным, т.к. при переборе 4х параметров было обнаружено, что можно обойтись и 15 деревььями.\n"
   ]
  },
  {
   "cell_type": "markdown",
   "metadata": {},
   "source": [
    "### Логистическая регрессия"
   ]
  },
  {
   "cell_type": "code",
   "execution_count": 74,
   "metadata": {},
   "outputs": [
    {
     "name": "stdout",
     "output_type": "stream",
     "text": [
      "accuracy valid sample - 0.709 ;\n",
      "accuracy teach sample - 0.7046\n"
     ]
    },
    {
     "name": "stderr",
     "output_type": "stream",
     "text": [
      "/opt/conda/lib/python3.7/site-packages/sklearn/linear_model/logistic.py:432: FutureWarning: Default solver will be changed to 'lbfgs' in 0.22. Specify a solver to silence this warning.\n",
      "  FutureWarning)\n"
     ]
    }
   ],
   "source": [
    "model_lp = LogisticRegression(random_state=12345)\n",
    "model_lp.fit(features, target)\n",
    "model_lp.predict(features_valid)\n",
    "score = model_lp.score(features_valid, target_valid)\n",
    "score_teach = model_lp.score(features, target)\n",
    "#accuracy = accuracy_score(target_test, predictions)\n",
    "print('accuracy valid sample -', round(score,4), ';\\n\\\n",
    "accuracy teach sample -',round(score_teach,4))"
   ]
  },
  {
   "cell_type": "code",
   "execution_count": 75,
   "metadata": {},
   "outputs": [
    {
     "data": {
      "text/html": [
       "<div>\n",
       "<style scoped>\n",
       "    .dataframe tbody tr th:only-of-type {\n",
       "        vertical-align: middle;\n",
       "    }\n",
       "\n",
       "    .dataframe tbody tr th {\n",
       "        vertical-align: top;\n",
       "    }\n",
       "\n",
       "    .dataframe thead th {\n",
       "        text-align: right;\n",
       "    }\n",
       "</style>\n",
       "<table border=\"1\" class=\"dataframe\">\n",
       "  <thead>\n",
       "    <tr style=\"text-align: right;\">\n",
       "      <th></th>\n",
       "      <th>Tree</th>\n",
       "      <th>Random forest</th>\n",
       "      <th>LR</th>\n",
       "    </tr>\n",
       "  </thead>\n",
       "  <tbody>\n",
       "    <tr>\n",
       "      <td>max_depth</td>\n",
       "      <td>9</td>\n",
       "      <td>10.0000</td>\n",
       "      <td>NaN</td>\n",
       "    </tr>\n",
       "    <tr>\n",
       "      <td>n_estimator</td>\n",
       "      <td>NaN</td>\n",
       "      <td>15.0000</td>\n",
       "      <td>NaN</td>\n",
       "    </tr>\n",
       "    <tr>\n",
       "      <td>accuracy</td>\n",
       "      <td>0.7985</td>\n",
       "      <td>0.8134</td>\n",
       "      <td>0.709</td>\n",
       "    </tr>\n",
       "  </tbody>\n",
       "</table>\n",
       "</div>"
      ],
      "text/plain": [
       "               Tree  Random forest     LR\n",
       "max_depth         9        10.0000    NaN\n",
       "n_estimator     NaN        15.0000    NaN\n",
       "accuracy     0.7985         0.8134  0.709"
      ]
     },
     "execution_count": 75,
     "metadata": {},
     "output_type": "execute_result"
    }
   ],
   "source": [
    "pd.DataFrame(\\\n",
    "            {'Tree' : [9,'NaN',0.7985],\\\n",
    "             'Random forest' : [10,15,0.8134],\\\n",
    "             'LR' : ['NaN','NaN',0.7090],\\\n",
    "            },\\\n",
    "             index = ['max_depth', 'n_estimator', 'accuracy']\\\n",
    "            )"
   ]
  },
  {
   "cell_type": "markdown",
   "metadata": {},
   "source": [
    "## Вывод \n",
    "Лучшей моделью по метрике accuracy оказалась модель дерево решений, но т.к. разница между деревом решений и случайным лесом на сотом порядке, то лучше взять модель случайного леса. Также требуются дополнительные метрики, для более сбалансированго вывода."
   ]
  },
  {
   "cell_type": "markdown",
   "metadata": {},
   "source": [
    "## 4. Проверьте модель на тестовой выборке"
   ]
  },
  {
   "cell_type": "code",
   "execution_count": 76,
   "metadata": {},
   "outputs": [
    {
     "data": {
      "image/png": "[encoded data removed]",
      "text/plain": [
       "<Figure size 432x288 with 1 Axes>"
      ]
     },
     "metadata": {},
     "output_type": "display_data"
    }
   ],
   "source": [
    "model_forest = RandomForestClassifier(random_state=12345,\\\n",
    "                                      criterion='gini',\\\n",
    "                                      n_estimators=15,\\\n",
    "                                      max_depth=10,\\\n",
    "                                      max_features = 'auto'\\\n",
    "                                     )\n",
    "\n",
    "model_forest.fit(features, target)\n",
    "predictions = model_forest.predict(features_test)\n",
    "model_tree.score(features_test, target_test)\n",
    "model_forest.score(features_test, target_test)\n",
    "model_lp.score(features_test, target_test)\n",
    "pd.DataFrame({'TS': [model_tree.score(features_test, target_test)],\\\n",
    "              'RF': [model_forest.score(features_test, target_test)],\\\n",
    "              'LP': [model_lp.score(features_test, target_test)],\\\n",
    "              'threshold' :[0.75]\n",
    "             }, index=['accuracy']).plot.bar(ylim=(.68,.81));"
   ]
  },
  {
   "cell_type": "markdown",
   "metadata": {},
   "source": [
    "## Вывод\n",
    "Как и предполаголось, что модель на основе RF даст лучший результат, и будет выше порогового значения на порядок 5%. Требуется для более лучшей отработки добавить в модели дополнительные гиперпараметры и проверить дополнительные метрики."
   ]
  },
  {
   "cell_type": "markdown",
   "metadata": {},
   "source": [
    "## 5. (бонус) Проверьте модели на адекватность"
   ]
  },
  {
   "cell_type": "code",
   "execution_count": 77,
   "metadata": {},
   "outputs": [
    {
     "data": {
      "text/plain": [
       "-0.4999825870646766"
      ]
     },
     "execution_count": 77,
     "metadata": {},
     "output_type": "execute_result"
    }
   ],
   "source": [
    "#Проверим, даст ли случайное заполнение результат выше чем при RF.\n",
    "predictions_ultra = pd.Series(1, index=target_test.index)\n",
    "accuracy = round(accuracy_score(target_test, predictions_ultra),4)\n",
    "accuracy - model_forest.score(features_test, target_test)"
   ]
  },
  {
   "cell_type": "code",
   "execution_count": 78,
   "metadata": {},
   "outputs": [
    {
     "data": {
      "text/plain": [
       "-0.10698258706467656"
      ]
     },
     "execution_count": 78,
     "metadata": {},
     "output_type": "execute_result"
    }
   ],
   "source": [
    "#Проверим, даст ли случайное заполнение результат выше чем при RF.\n",
    "predictions_ultra = pd.Series(0, index=target_test.index)\n",
    "accuracy = round(accuracy_score(target_test, predictions_ultra),4)\n",
    "accuracy - model_forest.score(features_test, target_test)"
   ]
  },
  {
   "cell_type": "code",
   "execution_count": 79,
   "metadata": {},
   "outputs": [
    {
     "data": {
      "text/plain": [
       "-0.2959825870646766"
      ]
     },
     "execution_count": 79,
     "metadata": {},
     "output_type": "execute_result"
    }
   ],
   "source": [
    "#Проверим, даст ли случайное заполнение результат выше чем при RF.\n",
    "predictions_ultra = pd.Series(1, index=target_test.index)\n",
    "predictions_ultra[202:]=0\n",
    "accuracy = round(accuracy_score(target_test, predictions_ultra),4)\n",
    "accuracy - model_forest.score(features_test, target_test)"
   ]
  },
  {
   "cell_type": "markdown",
   "metadata": {},
   "source": [
    "## Вывод:\n",
    "Тест на адекватность пройден, т.к. сравнение было было с случайным заполнениемвсе першли ну тариф ultra, затем на smart, затем на 50/50 и модельное заполнение лучше заполняет по сравнению со случайным, но всё равно не на 100% верно. "
   ]
  }
 ],
 "metadata": {
  "kernelspec": {
   "display_name": "Python 3",
   "language": "python",
   "name": "python3"
  },
  "language_info": {
   "codemirror_mode": {
    "name": "ipython",
    "version": 3
   },
   "file_extension": ".py",
   "mimetype": "text/x-python",
   "name": "python",
   "nbconvert_exporter": "python",
   "pygments_lexer": "ipython3",
   "version": "3.7.3"
  }
 },
 "nbformat": 4,
 "nbformat_minor": 2
}
