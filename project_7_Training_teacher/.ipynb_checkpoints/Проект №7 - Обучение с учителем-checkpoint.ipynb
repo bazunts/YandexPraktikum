{
 "cells": [
  {
   "cell_type": "markdown",
   "metadata": {},
   "source": [
    "# Проект №7 - Обучение с учителем"
   ]
  },
  {
   "cell_type": "markdown",
   "metadata": {},
   "source": [
    "# Отток клиентов"
   ]
  },
  {
   "cell_type": "markdown",
   "metadata": {},
   "source": [
    "Из «Бета-Банка» стали уходить клиенты. Каждый месяц. Немного, но заметно. Банковские маркетологи посчитали: сохранять текущих клиентов дешевле, чем привлекать новых.\n",
    "\n",
    "Нужно спрогнозировать, уйдёт клиент из банка в ближайшее время или нет. Вам предоставлены исторические данные о поведении клиентов и расторжении договоров с банком. \n",
    "\n",
    "Постройте модель с предельно большим значением *F1*-меры. Чтобы сдать проект успешно, нужно довести метрику до 0.59. Проверьте *F1*-меру на тестовой выборке самостоятельно.\n",
    "\n",
    "Дополнительно измеряйте *AUC-ROC*, сравнивайте её значение с *F1*-мерой.\n",
    "\n",
    "Источник данных: [https://www.kaggle.com/barelydedicated/bank-customer-churn-modeling](https://www.kaggle.com/barelydedicated/bank-customer-churn-modeling)"
   ]
  },
  {
   "cell_type": "markdown",
   "metadata": {},
   "source": [
    "## Инструкция\n",
    "1. Загрузите и подготовьте данные. Поясните порядок действий.\n",
    "2. Исследуйте баланс классов, обучите модель без учёта дисбаланса. Кратко опишите выводы.\n",
    "3. Улучшите качество модели, учитывая дисбаланс классов. Обучите разные модели и найдите лучшую. Кратко опишите выводы.\n",
    "4. Проведите финальное тестирование.\n",
    "\n",
    "### Признаки\n",
    "* RowNumber — индекс строки в данных // ___количественный признак___\n",
    "* CustomerId — уникальный идентификатор клиента // ___количественный признак___\n",
    "* Surname — фамилия // ___категориальный признак___\n",
    "* CreditScore — кредитный рейтинг // ___количественный признак___\n",
    "* Geography — страна проживания // ___категориальный признак___\n",
    "* Gender — пол // ___категориальный признак___\n",
    "* Age — возраст // ___количественный признак___\n",
    "* Tenure — количество недвижимости у клиента // ___количественный признак___\n",
    "* Balance — баланс на счёте // *___количественный признак___\n",
    "* NumOfProducts — количество продуктов банка, используемых клиентом // ___количественный признак___\n",
    "* HasCrCard — наличие кредитной карты // ___количественный признак___\n",
    "* IsActiveMember — активность клиента // ___количественный признак___\n",
    "* EstimatedSalary — предполагаемая зарплата // ___количественный признак___\n",
    "\n",
    "\n",
    "---\n",
    "\n",
    "### Целевой признак\n",
    "* ___Exited — факт ухода клиента___ // категориальный(бинарный) признак___"
   ]
  },
  {
   "cell_type": "markdown",
   "metadata": {},
   "source": [
    "# 1. Подготовка данных"
   ]
  },
  {
   "cell_type": "code",
   "execution_count": 1,
   "metadata": {},
   "outputs": [],
   "source": [
    "import pandas as pd\n",
    "from sklearn import metrics\n",
    "from sklearn.metrics import roc_curve, roc_auc_score, confusion_matrix, recall_score, precision_score, f1_score\n",
    "from sklearn.preprocessing import StandardScaler\n",
    "from sklearn.tree import DecisionTreeClassifier\n",
    "from sklearn.ensemble import RandomForestClassifier\n",
    "from sklearn.linear_model import LogisticRegression\n",
    "from sklearn.model_selection import train_test_split,cross_val_score, GridSearchCV, StratifiedShuffleSplit\n",
    "from sklearn.utils import shuffle\n",
    "\n",
    "import matplotlib.pyplot as plt\n",
    "import numpy as np\n",
    "import itertools\n",
    "import operator\n",
    "import seaborn as sns\n",
    "sns.set()\n",
    "\n",
    "import warnings\n",
    "warnings.filterwarnings('ignore')"
   ]
  },
  {
   "cell_type": "markdown",
   "metadata": {},
   "source": [
    "Сделаем сразу замену типа у признака Exited на uint8, т.к. данный тип является стандартным для цифровых булевых значений в pandas."
   ]
  },
  {
   "cell_type": "code",
   "execution_count": 2,
   "metadata": {},
   "outputs": [
    {
     "name": "stdout",
     "output_type": "stream",
     "text": [
      "(10000, 14)\n",
      "\n",
      "<class 'pandas.core.frame.DataFrame'>\n",
      "RangeIndex: 10000 entries, 0 to 9999\n",
      "Data columns (total 14 columns):\n",
      "RowNumber          10000 non-null int64\n",
      "CustomerId         10000 non-null int64\n",
      "Surname            10000 non-null object\n",
      "CreditScore        10000 non-null int64\n",
      "Geography          10000 non-null object\n",
      "Gender             10000 non-null object\n",
      "Age                10000 non-null int64\n",
      "Tenure             9091 non-null float64\n",
      "Balance            10000 non-null float64\n",
      "NumOfProducts      10000 non-null int64\n",
      "HasCrCard          10000 non-null int64\n",
      "IsActiveMember     10000 non-null int64\n",
      "EstimatedSalary    10000 non-null float64\n",
      "Exited             10000 non-null uint8\n",
      "dtypes: float64(3), int64(7), object(3), uint8(1)\n",
      "memory usage: 1.0+ MB\n",
      "None\n",
      "\n"
     ]
    },
    {
     "data": {
      "text/html": [
       "<div>\n",
       "<style scoped>\n",
       "    .dataframe tbody tr th:only-of-type {\n",
       "        vertical-align: middle;\n",
       "    }\n",
       "\n",
       "    .dataframe tbody tr th {\n",
       "        vertical-align: top;\n",
       "    }\n",
       "\n",
       "    .dataframe thead th {\n",
       "        text-align: right;\n",
       "    }\n",
       "</style>\n",
       "<table border=\"1\" class=\"dataframe\">\n",
       "  <thead>\n",
       "    <tr style=\"text-align: right;\">\n",
       "      <th></th>\n",
       "      <th>RowNumber</th>\n",
       "      <th>CustomerId</th>\n",
       "      <th>Surname</th>\n",
       "      <th>CreditScore</th>\n",
       "      <th>Geography</th>\n",
       "      <th>Gender</th>\n",
       "      <th>Age</th>\n",
       "      <th>Tenure</th>\n",
       "      <th>Balance</th>\n",
       "      <th>NumOfProducts</th>\n",
       "      <th>HasCrCard</th>\n",
       "      <th>IsActiveMember</th>\n",
       "      <th>EstimatedSalary</th>\n",
       "      <th>Exited</th>\n",
       "    </tr>\n",
       "  </thead>\n",
       "  <tbody>\n",
       "    <tr>\n",
       "      <td>0</td>\n",
       "      <td>1</td>\n",
       "      <td>15634602</td>\n",
       "      <td>Hargrave</td>\n",
       "      <td>619</td>\n",
       "      <td>France</td>\n",
       "      <td>Female</td>\n",
       "      <td>42</td>\n",
       "      <td>2.0</td>\n",
       "      <td>0.00</td>\n",
       "      <td>1</td>\n",
       "      <td>1</td>\n",
       "      <td>1</td>\n",
       "      <td>101348.88</td>\n",
       "      <td>1</td>\n",
       "    </tr>\n",
       "    <tr>\n",
       "      <td>1</td>\n",
       "      <td>2</td>\n",
       "      <td>15647311</td>\n",
       "      <td>Hill</td>\n",
       "      <td>608</td>\n",
       "      <td>Spain</td>\n",
       "      <td>Female</td>\n",
       "      <td>41</td>\n",
       "      <td>1.0</td>\n",
       "      <td>83807.86</td>\n",
       "      <td>1</td>\n",
       "      <td>0</td>\n",
       "      <td>1</td>\n",
       "      <td>112542.58</td>\n",
       "      <td>0</td>\n",
       "    </tr>\n",
       "    <tr>\n",
       "      <td>2</td>\n",
       "      <td>3</td>\n",
       "      <td>15619304</td>\n",
       "      <td>Onio</td>\n",
       "      <td>502</td>\n",
       "      <td>France</td>\n",
       "      <td>Female</td>\n",
       "      <td>42</td>\n",
       "      <td>8.0</td>\n",
       "      <td>159660.80</td>\n",
       "      <td>3</td>\n",
       "      <td>1</td>\n",
       "      <td>0</td>\n",
       "      <td>113931.57</td>\n",
       "      <td>1</td>\n",
       "    </tr>\n",
       "    <tr>\n",
       "      <td>3</td>\n",
       "      <td>4</td>\n",
       "      <td>15701354</td>\n",
       "      <td>Boni</td>\n",
       "      <td>699</td>\n",
       "      <td>France</td>\n",
       "      <td>Female</td>\n",
       "      <td>39</td>\n",
       "      <td>1.0</td>\n",
       "      <td>0.00</td>\n",
       "      <td>2</td>\n",
       "      <td>0</td>\n",
       "      <td>0</td>\n",
       "      <td>93826.63</td>\n",
       "      <td>0</td>\n",
       "    </tr>\n",
       "    <tr>\n",
       "      <td>4</td>\n",
       "      <td>5</td>\n",
       "      <td>15737888</td>\n",
       "      <td>Mitchell</td>\n",
       "      <td>850</td>\n",
       "      <td>Spain</td>\n",
       "      <td>Female</td>\n",
       "      <td>43</td>\n",
       "      <td>2.0</td>\n",
       "      <td>125510.82</td>\n",
       "      <td>1</td>\n",
       "      <td>1</td>\n",
       "      <td>1</td>\n",
       "      <td>79084.10</td>\n",
       "      <td>0</td>\n",
       "    </tr>\n",
       "  </tbody>\n",
       "</table>\n",
       "</div>"
      ],
      "text/plain": [
       "   RowNumber  CustomerId   Surname  CreditScore Geography  Gender  Age  \\\n",
       "0          1    15634602  Hargrave          619    France  Female   42   \n",
       "1          2    15647311      Hill          608     Spain  Female   41   \n",
       "2          3    15619304      Onio          502    France  Female   42   \n",
       "3          4    15701354      Boni          699    France  Female   39   \n",
       "4          5    15737888  Mitchell          850     Spain  Female   43   \n",
       "\n",
       "   Tenure    Balance  NumOfProducts  HasCrCard  IsActiveMember  \\\n",
       "0     2.0       0.00              1          1               1   \n",
       "1     1.0   83807.86              1          0               1   \n",
       "2     8.0  159660.80              3          1               0   \n",
       "3     1.0       0.00              2          0               0   \n",
       "4     2.0  125510.82              1          1               1   \n",
       "\n",
       "   EstimatedSalary  Exited  \n",
       "0        101348.88       1  \n",
       "1        112542.58       0  \n",
       "2        113931.57       1  \n",
       "3         93826.63       0  \n",
       "4         79084.10       0  "
      ]
     },
     "execution_count": 2,
     "metadata": {},
     "output_type": "execute_result"
    }
   ],
   "source": [
    "data = pd.read_csv('/datasets/Churn.csv')\n",
    "data['Exited'] = data['Exited'].astype('uint8')\n",
    "print(data.shape)\n",
    "print()\n",
    "print(data.info())\n",
    "print()\n",
    "data.head()"
   ]
  },
  {
   "cell_type": "markdown",
   "metadata": {},
   "source": [
    "Сделаем замену наименований на нижний регистр с раздением нижний чертой, для корректной работы с признаками"
   ]
  },
  {
   "cell_type": "code",
   "execution_count": 3,
   "metadata": {},
   "outputs": [
    {
     "data": {
      "text/html": [
       "<div>\n",
       "<style scoped>\n",
       "    .dataframe tbody tr th:only-of-type {\n",
       "        vertical-align: middle;\n",
       "    }\n",
       "\n",
       "    .dataframe tbody tr th {\n",
       "        vertical-align: top;\n",
       "    }\n",
       "\n",
       "    .dataframe thead th {\n",
       "        text-align: right;\n",
       "    }\n",
       "</style>\n",
       "<table border=\"1\" class=\"dataframe\">\n",
       "  <thead>\n",
       "    <tr style=\"text-align: right;\">\n",
       "      <th></th>\n",
       "      <th>row_number</th>\n",
       "      <th>customer_id</th>\n",
       "      <th>surname</th>\n",
       "      <th>credit_score</th>\n",
       "      <th>geography</th>\n",
       "      <th>gender</th>\n",
       "      <th>age</th>\n",
       "      <th>tenure</th>\n",
       "      <th>balance</th>\n",
       "      <th>num_of_products</th>\n",
       "      <th>has_cr_card</th>\n",
       "      <th>is_active_member</th>\n",
       "      <th>estimated_salary</th>\n",
       "      <th>exited</th>\n",
       "    </tr>\n",
       "  </thead>\n",
       "  <tbody>\n",
       "    <tr>\n",
       "      <td>0</td>\n",
       "      <td>1</td>\n",
       "      <td>15634602</td>\n",
       "      <td>Hargrave</td>\n",
       "      <td>619</td>\n",
       "      <td>France</td>\n",
       "      <td>Female</td>\n",
       "      <td>42</td>\n",
       "      <td>2.0</td>\n",
       "      <td>0.00</td>\n",
       "      <td>1</td>\n",
       "      <td>1</td>\n",
       "      <td>1</td>\n",
       "      <td>101348.88</td>\n",
       "      <td>1</td>\n",
       "    </tr>\n",
       "    <tr>\n",
       "      <td>1</td>\n",
       "      <td>2</td>\n",
       "      <td>15647311</td>\n",
       "      <td>Hill</td>\n",
       "      <td>608</td>\n",
       "      <td>Spain</td>\n",
       "      <td>Female</td>\n",
       "      <td>41</td>\n",
       "      <td>1.0</td>\n",
       "      <td>83807.86</td>\n",
       "      <td>1</td>\n",
       "      <td>0</td>\n",
       "      <td>1</td>\n",
       "      <td>112542.58</td>\n",
       "      <td>0</td>\n",
       "    </tr>\n",
       "    <tr>\n",
       "      <td>2</td>\n",
       "      <td>3</td>\n",
       "      <td>15619304</td>\n",
       "      <td>Onio</td>\n",
       "      <td>502</td>\n",
       "      <td>France</td>\n",
       "      <td>Female</td>\n",
       "      <td>42</td>\n",
       "      <td>8.0</td>\n",
       "      <td>159660.80</td>\n",
       "      <td>3</td>\n",
       "      <td>1</td>\n",
       "      <td>0</td>\n",
       "      <td>113931.57</td>\n",
       "      <td>1</td>\n",
       "    </tr>\n",
       "    <tr>\n",
       "      <td>3</td>\n",
       "      <td>4</td>\n",
       "      <td>15701354</td>\n",
       "      <td>Boni</td>\n",
       "      <td>699</td>\n",
       "      <td>France</td>\n",
       "      <td>Female</td>\n",
       "      <td>39</td>\n",
       "      <td>1.0</td>\n",
       "      <td>0.00</td>\n",
       "      <td>2</td>\n",
       "      <td>0</td>\n",
       "      <td>0</td>\n",
       "      <td>93826.63</td>\n",
       "      <td>0</td>\n",
       "    </tr>\n",
       "    <tr>\n",
       "      <td>4</td>\n",
       "      <td>5</td>\n",
       "      <td>15737888</td>\n",
       "      <td>Mitchell</td>\n",
       "      <td>850</td>\n",
       "      <td>Spain</td>\n",
       "      <td>Female</td>\n",
       "      <td>43</td>\n",
       "      <td>2.0</td>\n",
       "      <td>125510.82</td>\n",
       "      <td>1</td>\n",
       "      <td>1</td>\n",
       "      <td>1</td>\n",
       "      <td>79084.10</td>\n",
       "      <td>0</td>\n",
       "    </tr>\n",
       "  </tbody>\n",
       "</table>\n",
       "</div>"
      ],
      "text/plain": [
       "   row_number  customer_id   surname  credit_score geography  gender  age  \\\n",
       "0           1     15634602  Hargrave           619    France  Female   42   \n",
       "1           2     15647311      Hill           608     Spain  Female   41   \n",
       "2           3     15619304      Onio           502    France  Female   42   \n",
       "3           4     15701354      Boni           699    France  Female   39   \n",
       "4           5     15737888  Mitchell           850     Spain  Female   43   \n",
       "\n",
       "   tenure    balance  num_of_products  has_cr_card  is_active_member  \\\n",
       "0     2.0       0.00                1            1                 1   \n",
       "1     1.0   83807.86                1            0                 1   \n",
       "2     8.0  159660.80                3            1                 0   \n",
       "3     1.0       0.00                2            0                 0   \n",
       "4     2.0  125510.82                1            1                 1   \n",
       "\n",
       "   estimated_salary  exited  \n",
       "0         101348.88       1  \n",
       "1         112542.58       0  \n",
       "2         113931.57       1  \n",
       "3          93826.63       0  \n",
       "4          79084.10       0  "
      ]
     },
     "execution_count": 3,
     "metadata": {},
     "output_type": "execute_result"
    }
   ],
   "source": [
    "new_columns = []\n",
    "for item in list(data.columns):\n",
    "    item = item.lower()\n",
    "    new_columns.append(item)\n",
    "\n",
    "#', '.join(new_columns)\n",
    "new_columns = ['row_number', 'customer_id', 'surname', 'credit_score', 'geography', 'gender', 'age', 'tenure', 'balance',\\\n",
    "               'num_of_products', 'has_cr_card', 'is_active_member', 'estimated_salary', 'exited']\n",
    "data.columns = new_columns\n",
    "data.head()"
   ]
  },
  {
   "cell_type": "markdown",
   "metadata": {},
   "source": [
    "Проверка на дубли, чтобы не обучить на некорректных данных"
   ]
  },
  {
   "cell_type": "code",
   "execution_count": 4,
   "metadata": {},
   "outputs": [
    {
     "data": {
      "text/plain": [
       "0"
      ]
     },
     "execution_count": 4,
     "metadata": {},
     "output_type": "execute_result"
    }
   ],
   "source": [
    "data.duplicated().sum()"
   ]
  },
  {
   "cell_type": "markdown",
   "metadata": {},
   "source": [
    "Дубликатов нет, проверим на пропуски"
   ]
  },
  {
   "cell_type": "code",
   "execution_count": 5,
   "metadata": {},
   "outputs": [
    {
     "name": "stdout",
     "output_type": "stream",
     "text": [
      "None пропусков нет в таблице\n",
      "В столбце - tenure - пропущено: 909 ;\n",
      "\n",
      "\n"
     ]
    }
   ],
   "source": [
    "def search_nan(data, parametr=''):\n",
    "    if parametr == '':\n",
    "        series_null_list =[]\n",
    "        series_null = data.isnull().sum().sort_values(ascending=False)\n",
    "        for i in series_null.index:\n",
    "            if series_null[i] > 0:\n",
    "                print('В столбце -', i, '- пропущено:', series_null[i], ';')\n",
    "                series_null_list.append(i)\n",
    "        print()\n",
    "    elif parametr != '':\n",
    "        if data[parametr].isnull().sum() > 0:\n",
    "            print('В столбце -', parametr, '- пропущено:', data[parametr].isnull().sum(), ';')\n",
    "        else:\n",
    "            print('нет пропусков')\n",
    "    #return series_null_list\n",
    "    print()\n",
    "    \n",
    "\n",
    "            \n",
    "def search_none(data):\n",
    "    problem =[]\n",
    "    for column in data.columns:\n",
    "        if data.loc[data[column] == 'None'][column].count() > 0:\n",
    "            print('None обнаружен в столбце - ', column, '- в количестве', data.loc[data[column] == 'None'][column].count())\n",
    "            problem.append(column)\n",
    "    if len(problem) == 0:\n",
    "        print('None пропусков нет в таблице')\n",
    "\n",
    "    \n",
    "search_none(data)\n",
    "search_nan(data)"
   ]
  },
  {
   "cell_type": "markdown",
   "metadata": {},
   "source": [
    "Сделаем замену на 0, в вывод дам более поднобный анализ"
   ]
  },
  {
   "cell_type": "code",
   "execution_count": 6,
   "metadata": {},
   "outputs": [
    {
     "name": "stdout",
     "output_type": "stream",
     "text": [
      "\n",
      "\n"
     ]
    }
   ],
   "source": [
    "data['tenure'].fillna('0', inplace=True)\n",
    "data['tenure'] = data['tenure'].astype('int64')\n",
    "search_nan(data)"
   ]
  },
  {
   "cell_type": "markdown",
   "metadata": {},
   "source": [
    "### Предварительный вывод:\n",
    "Сделана предварительная замена значений признака \"tenure\" (количество недвижимости у клиента), на предварительном этапе заполднил нулевыми значениями, т.к. медиана и среднеее могут исказить картину. С точки зрения банка лучше иметь информацию, что у клиента нет недвижимости, чем она есть, т.к. владение недвижимым имуществом повышает кредитный рейтинг клиента, влияет на надежность. Таким образом, чтобы не возникало никаких иллюзий лучше обнулить, риски нужно минимизировать. Так как реальные убытки это не потенциальные и ощущаются.\n",
    "\n",
    "Проблем в данных не обнаружено: дублей и None - нет, а пропуски устранены путем заполнения нулевыми значениями и только в одном признаке.\n",
    "\n",
    "Имеется 3 категориальных признака: Surname(не нужен, мы не ищем зависимоти от фамилии), Gender, Geography и один бинарный: Exited. Для дальнешего обучения нужно удалить: признак Surname, т.к. он не несет никого влияния, идентификатор клиента - customer_id и row_number - индентификатор строки. Признаки: gender, geography - нужно преобразовать в бинарные методологией OHE (one-hot encoding). Как один из вариантов, можно проверить методологию OrdinalEncoding, но в данном проекте воспользуемся только OHE. \n",
    "\n",
    "Следующим шагом будет разделение выборок и приведение количественных признаков к единому масштабу, чтобы исключить разновесовое влияние.\n"
   ]
  },
  {
   "cell_type": "markdown",
   "metadata": {},
   "source": [
    "### Удаление признака Surname, идентификатора строки, идентификатора клиента"
   ]
  },
  {
   "cell_type": "code",
   "execution_count": 7,
   "metadata": {},
   "outputs": [],
   "source": [
    "data = data.drop(['surname', 'row_number', 'customer_id'], axis=1)"
   ]
  },
  {
   "cell_type": "code",
   "execution_count": 8,
   "metadata": {},
   "outputs": [
    {
     "data": {
      "text/html": [
       "<div>\n",
       "<style scoped>\n",
       "    .dataframe tbody tr th:only-of-type {\n",
       "        vertical-align: middle;\n",
       "    }\n",
       "\n",
       "    .dataframe tbody tr th {\n",
       "        vertical-align: top;\n",
       "    }\n",
       "\n",
       "    .dataframe thead th {\n",
       "        text-align: right;\n",
       "    }\n",
       "</style>\n",
       "<table border=\"1\" class=\"dataframe\">\n",
       "  <thead>\n",
       "    <tr style=\"text-align: right;\">\n",
       "      <th></th>\n",
       "      <th>credit_score</th>\n",
       "      <th>geography</th>\n",
       "      <th>gender</th>\n",
       "      <th>age</th>\n",
       "      <th>tenure</th>\n",
       "      <th>balance</th>\n",
       "      <th>num_of_products</th>\n",
       "      <th>has_cr_card</th>\n",
       "      <th>is_active_member</th>\n",
       "      <th>estimated_salary</th>\n",
       "      <th>exited</th>\n",
       "    </tr>\n",
       "  </thead>\n",
       "  <tbody>\n",
       "    <tr>\n",
       "      <td>0</td>\n",
       "      <td>619</td>\n",
       "      <td>France</td>\n",
       "      <td>Female</td>\n",
       "      <td>42</td>\n",
       "      <td>2</td>\n",
       "      <td>0.00</td>\n",
       "      <td>1</td>\n",
       "      <td>1</td>\n",
       "      <td>1</td>\n",
       "      <td>101348.88</td>\n",
       "      <td>1</td>\n",
       "    </tr>\n",
       "    <tr>\n",
       "      <td>1</td>\n",
       "      <td>608</td>\n",
       "      <td>Spain</td>\n",
       "      <td>Female</td>\n",
       "      <td>41</td>\n",
       "      <td>1</td>\n",
       "      <td>83807.86</td>\n",
       "      <td>1</td>\n",
       "      <td>0</td>\n",
       "      <td>1</td>\n",
       "      <td>112542.58</td>\n",
       "      <td>0</td>\n",
       "    </tr>\n",
       "    <tr>\n",
       "      <td>2</td>\n",
       "      <td>502</td>\n",
       "      <td>France</td>\n",
       "      <td>Female</td>\n",
       "      <td>42</td>\n",
       "      <td>8</td>\n",
       "      <td>159660.80</td>\n",
       "      <td>3</td>\n",
       "      <td>1</td>\n",
       "      <td>0</td>\n",
       "      <td>113931.57</td>\n",
       "      <td>1</td>\n",
       "    </tr>\n",
       "    <tr>\n",
       "      <td>3</td>\n",
       "      <td>699</td>\n",
       "      <td>France</td>\n",
       "      <td>Female</td>\n",
       "      <td>39</td>\n",
       "      <td>1</td>\n",
       "      <td>0.00</td>\n",
       "      <td>2</td>\n",
       "      <td>0</td>\n",
       "      <td>0</td>\n",
       "      <td>93826.63</td>\n",
       "      <td>0</td>\n",
       "    </tr>\n",
       "    <tr>\n",
       "      <td>4</td>\n",
       "      <td>850</td>\n",
       "      <td>Spain</td>\n",
       "      <td>Female</td>\n",
       "      <td>43</td>\n",
       "      <td>2</td>\n",
       "      <td>125510.82</td>\n",
       "      <td>1</td>\n",
       "      <td>1</td>\n",
       "      <td>1</td>\n",
       "      <td>79084.10</td>\n",
       "      <td>0</td>\n",
       "    </tr>\n",
       "  </tbody>\n",
       "</table>\n",
       "</div>"
      ],
      "text/plain": [
       "   credit_score geography  gender  age  tenure    balance  num_of_products  \\\n",
       "0           619    France  Female   42       2       0.00                1   \n",
       "1           608     Spain  Female   41       1   83807.86                1   \n",
       "2           502    France  Female   42       8  159660.80                3   \n",
       "3           699    France  Female   39       1       0.00                2   \n",
       "4           850     Spain  Female   43       2  125510.82                1   \n",
       "\n",
       "   has_cr_card  is_active_member  estimated_salary  exited  \n",
       "0            1                 1         101348.88       1  \n",
       "1            0                 1         112542.58       0  \n",
       "2            1                 0         113931.57       1  \n",
       "3            0                 0          93826.63       0  \n",
       "4            1                 1          79084.10       0  "
      ]
     },
     "execution_count": 8,
     "metadata": {},
     "output_type": "execute_result"
    }
   ],
   "source": [
    "data.head()"
   ]
  },
  {
   "cell_type": "markdown",
   "metadata": {},
   "source": [
    "### Применение демми-признаков (ohe)"
   ]
  },
  {
   "cell_type": "code",
   "execution_count": 9,
   "metadata": {},
   "outputs": [
    {
     "data": {
      "text/html": [
       "<div>\n",
       "<style scoped>\n",
       "    .dataframe tbody tr th:only-of-type {\n",
       "        vertical-align: middle;\n",
       "    }\n",
       "\n",
       "    .dataframe tbody tr th {\n",
       "        vertical-align: top;\n",
       "    }\n",
       "\n",
       "    .dataframe thead th {\n",
       "        text-align: right;\n",
       "    }\n",
       "</style>\n",
       "<table border=\"1\" class=\"dataframe\">\n",
       "  <thead>\n",
       "    <tr style=\"text-align: right;\">\n",
       "      <th></th>\n",
       "      <th>credit_score</th>\n",
       "      <th>age</th>\n",
       "      <th>tenure</th>\n",
       "      <th>balance</th>\n",
       "      <th>num_of_products</th>\n",
       "      <th>has_cr_card</th>\n",
       "      <th>is_active_member</th>\n",
       "      <th>estimated_salary</th>\n",
       "      <th>exited</th>\n",
       "      <th>geography_Germany</th>\n",
       "      <th>geography_Spain</th>\n",
       "      <th>gender_Male</th>\n",
       "    </tr>\n",
       "  </thead>\n",
       "  <tbody>\n",
       "    <tr>\n",
       "      <td>0</td>\n",
       "      <td>619</td>\n",
       "      <td>42</td>\n",
       "      <td>2</td>\n",
       "      <td>0.00</td>\n",
       "      <td>1</td>\n",
       "      <td>1</td>\n",
       "      <td>1</td>\n",
       "      <td>101348.88</td>\n",
       "      <td>1</td>\n",
       "      <td>0</td>\n",
       "      <td>0</td>\n",
       "      <td>0</td>\n",
       "    </tr>\n",
       "    <tr>\n",
       "      <td>1</td>\n",
       "      <td>608</td>\n",
       "      <td>41</td>\n",
       "      <td>1</td>\n",
       "      <td>83807.86</td>\n",
       "      <td>1</td>\n",
       "      <td>0</td>\n",
       "      <td>1</td>\n",
       "      <td>112542.58</td>\n",
       "      <td>0</td>\n",
       "      <td>0</td>\n",
       "      <td>1</td>\n",
       "      <td>0</td>\n",
       "    </tr>\n",
       "    <tr>\n",
       "      <td>2</td>\n",
       "      <td>502</td>\n",
       "      <td>42</td>\n",
       "      <td>8</td>\n",
       "      <td>159660.80</td>\n",
       "      <td>3</td>\n",
       "      <td>1</td>\n",
       "      <td>0</td>\n",
       "      <td>113931.57</td>\n",
       "      <td>1</td>\n",
       "      <td>0</td>\n",
       "      <td>0</td>\n",
       "      <td>0</td>\n",
       "    </tr>\n",
       "    <tr>\n",
       "      <td>3</td>\n",
       "      <td>699</td>\n",
       "      <td>39</td>\n",
       "      <td>1</td>\n",
       "      <td>0.00</td>\n",
       "      <td>2</td>\n",
       "      <td>0</td>\n",
       "      <td>0</td>\n",
       "      <td>93826.63</td>\n",
       "      <td>0</td>\n",
       "      <td>0</td>\n",
       "      <td>0</td>\n",
       "      <td>0</td>\n",
       "    </tr>\n",
       "    <tr>\n",
       "      <td>4</td>\n",
       "      <td>850</td>\n",
       "      <td>43</td>\n",
       "      <td>2</td>\n",
       "      <td>125510.82</td>\n",
       "      <td>1</td>\n",
       "      <td>1</td>\n",
       "      <td>1</td>\n",
       "      <td>79084.10</td>\n",
       "      <td>0</td>\n",
       "      <td>0</td>\n",
       "      <td>1</td>\n",
       "      <td>0</td>\n",
       "    </tr>\n",
       "  </tbody>\n",
       "</table>\n",
       "</div>"
      ],
      "text/plain": [
       "   credit_score  age  tenure    balance  num_of_products  has_cr_card  \\\n",
       "0           619   42       2       0.00                1            1   \n",
       "1           608   41       1   83807.86                1            0   \n",
       "2           502   42       8  159660.80                3            1   \n",
       "3           699   39       1       0.00                2            0   \n",
       "4           850   43       2  125510.82                1            1   \n",
       "\n",
       "   is_active_member  estimated_salary  exited  geography_Germany  \\\n",
       "0                 1         101348.88       1                  0   \n",
       "1                 1         112542.58       0                  0   \n",
       "2                 0         113931.57       1                  0   \n",
       "3                 0          93826.63       0                  0   \n",
       "4                 1          79084.10       0                  0   \n",
       "\n",
       "   geography_Spain  gender_Male  \n",
       "0                0            0  \n",
       "1                1            0  \n",
       "2                0            0  \n",
       "3                0            0  \n",
       "4                1            0  "
      ]
     },
     "execution_count": 9,
     "metadata": {},
     "output_type": "execute_result"
    }
   ],
   "source": [
    "data_ohe = pd.get_dummies(data, drop_first = True)\n",
    "data_ohe.head()"
   ]
  },
  {
   "cell_type": "markdown",
   "metadata": {},
   "source": [
    "### Создадим выборки и приведём объекты выборок к единому масштабу"
   ]
  },
  {
   "cell_type": "code",
   "execution_count": 10,
   "metadata": {},
   "outputs": [
    {
     "name": "stdout",
     "output_type": "stream",
     "text": [
      "Проверка размера выборок:\n",
      "X_train (7500, 11)\n",
      "X_test (2500, 11)\n",
      "Y_train (7500,)\n",
      "Y_test (2500,)\n"
     ]
    },
    {
     "data": {
      "text/html": [
       "<div>\n",
       "<style scoped>\n",
       "    .dataframe tbody tr th:only-of-type {\n",
       "        vertical-align: middle;\n",
       "    }\n",
       "\n",
       "    .dataframe tbody tr th {\n",
       "        vertical-align: top;\n",
       "    }\n",
       "\n",
       "    .dataframe thead th {\n",
       "        text-align: right;\n",
       "    }\n",
       "</style>\n",
       "<table border=\"1\" class=\"dataframe\">\n",
       "  <thead>\n",
       "    <tr style=\"text-align: right;\">\n",
       "      <th></th>\n",
       "      <th>credit_score</th>\n",
       "      <th>age</th>\n",
       "      <th>tenure</th>\n",
       "      <th>balance</th>\n",
       "      <th>estimated_salary</th>\n",
       "    </tr>\n",
       "  </thead>\n",
       "  <tbody>\n",
       "    <tr>\n",
       "      <td>0</td>\n",
       "      <td>0.442805</td>\n",
       "      <td>-0.841274</td>\n",
       "      <td>1.426885</td>\n",
       "      <td>-1.224577</td>\n",
       "      <td>-1.269750</td>\n",
       "    </tr>\n",
       "    <tr>\n",
       "      <td>1</td>\n",
       "      <td>-0.310897</td>\n",
       "      <td>-0.270730</td>\n",
       "      <td>0.784858</td>\n",
       "      <td>0.641783</td>\n",
       "      <td>0.960396</td>\n",
       "    </tr>\n",
       "  </tbody>\n",
       "</table>\n",
       "</div>"
      ],
      "text/plain": [
       "   credit_score       age    tenure   balance  estimated_salary\n",
       "0      0.442805 -0.841274  1.426885 -1.224577         -1.269750\n",
       "1     -0.310897 -0.270730  0.784858  0.641783          0.960396"
      ]
     },
     "execution_count": 10,
     "metadata": {},
     "output_type": "execute_result"
    }
   ],
   "source": [
    "features = data_ohe.drop('exited', axis=1)\n",
    "target = data_ohe['exited']\n",
    "\n",
    "X_train, X_test, Y_train, Y_test = train_test_split(features, target, test_size=.25, random_state=12345)\n",
    "print('Проверка размера выборок:')\n",
    "print('X_train', X_train.shape)\n",
    "print('X_test', X_test.shape)\n",
    "print('Y_train', Y_train.shape)\n",
    "print('Y_test', Y_test.shape)\n",
    "\n",
    "column_for_scaled = ['credit_score', 'age', 'tenure', 'balance', 'estimated_salary']\n",
    "\n",
    "X_train_for_scaled = X_train.loc[:,column_for_scaled]\n",
    "X_test_for_scaled = X_test.loc[:,column_for_scaled]\n",
    "\n",
    "scaler = StandardScaler()\n",
    "\n",
    "scaler.fit(X_train_for_scaled)\n",
    "scaler_train_data = pd.DataFrame(scaler.transform(X_train_for_scaled), columns=column_for_scaled)\n",
    "scaler_test_data = pd.DataFrame(scaler.transform(X_test_for_scaled), columns=column_for_scaled)\n",
    "\n",
    "#X_train_sk = pd.DataFrame(scaler.transform(data_ohe), columns=column_for_scaled)\n",
    "scaler_train_data.head(2)"
   ]
  },
  {
   "cell_type": "code",
   "execution_count": 11,
   "metadata": {},
   "outputs": [
    {
     "data": {
      "text/plain": [
       "{'exited',\n",
       " 'gender_Male',\n",
       " 'geography_Germany',\n",
       " 'geography_Spain',\n",
       " 'has_cr_card',\n",
       " 'is_active_member',\n",
       " 'num_of_products'}"
      ]
     },
     "execution_count": 11,
     "metadata": {},
     "output_type": "execute_result"
    }
   ],
   "source": [
    "diff_column = set(data_ohe.columns)-set(column_for_scaled)\n",
    "diff_column"
   ]
  },
  {
   "cell_type": "code",
   "execution_count": 12,
   "metadata": {},
   "outputs": [],
   "source": [
    "diff_column = ['gender_Male', 'geography_Germany', 'geography_Spain', 'has_cr_card', 'is_active_member', 'num_of_products']\n",
    "temp_train = X_train.loc[:,diff_column].reset_index(drop=True);\n",
    "temp_test = X_test.loc[:,diff_column].reset_index(drop=True);"
   ]
  },
  {
   "cell_type": "code",
   "execution_count": 13,
   "metadata": {},
   "outputs": [
    {
     "data": {
      "text/html": [
       "<div>\n",
       "<style scoped>\n",
       "    .dataframe tbody tr th:only-of-type {\n",
       "        vertical-align: middle;\n",
       "    }\n",
       "\n",
       "    .dataframe tbody tr th {\n",
       "        vertical-align: top;\n",
       "    }\n",
       "\n",
       "    .dataframe thead th {\n",
       "        text-align: right;\n",
       "    }\n",
       "</style>\n",
       "<table border=\"1\" class=\"dataframe\">\n",
       "  <thead>\n",
       "    <tr style=\"text-align: right;\">\n",
       "      <th></th>\n",
       "      <th>credit_score</th>\n",
       "      <th>age</th>\n",
       "      <th>tenure</th>\n",
       "      <th>balance</th>\n",
       "      <th>estimated_salary</th>\n",
       "      <th>gender_Male</th>\n",
       "      <th>geography_Germany</th>\n",
       "      <th>geography_Spain</th>\n",
       "      <th>has_cr_card</th>\n",
       "      <th>is_active_member</th>\n",
       "      <th>num_of_products</th>\n",
       "    </tr>\n",
       "  </thead>\n",
       "  <tbody>\n",
       "    <tr>\n",
       "      <td>0</td>\n",
       "      <td>0.442805</td>\n",
       "      <td>-0.841274</td>\n",
       "      <td>1.426885</td>\n",
       "      <td>-1.224577</td>\n",
       "      <td>-1.269750</td>\n",
       "      <td>0</td>\n",
       "      <td>0</td>\n",
       "      <td>0</td>\n",
       "      <td>1</td>\n",
       "      <td>1</td>\n",
       "      <td>2</td>\n",
       "    </tr>\n",
       "    <tr>\n",
       "      <td>1</td>\n",
       "      <td>-0.310897</td>\n",
       "      <td>-0.270730</td>\n",
       "      <td>0.784858</td>\n",
       "      <td>0.641783</td>\n",
       "      <td>0.960396</td>\n",
       "      <td>0</td>\n",
       "      <td>0</td>\n",
       "      <td>1</td>\n",
       "      <td>1</td>\n",
       "      <td>1</td>\n",
       "      <td>1</td>\n",
       "    </tr>\n",
       "  </tbody>\n",
       "</table>\n",
       "</div>"
      ],
      "text/plain": [
       "   credit_score       age    tenure   balance  estimated_salary  gender_Male  \\\n",
       "0      0.442805 -0.841274  1.426885 -1.224577         -1.269750            0   \n",
       "1     -0.310897 -0.270730  0.784858  0.641783          0.960396            0   \n",
       "\n",
       "   geography_Germany  geography_Spain  has_cr_card  is_active_member  \\\n",
       "0                  0                0            1                 1   \n",
       "1                  0                1            1                 1   \n",
       "\n",
       "   num_of_products  \n",
       "0                2  \n",
       "1                1  "
      ]
     },
     "execution_count": 13,
     "metadata": {},
     "output_type": "execute_result"
    }
   ],
   "source": [
    "X_train_scaled = pd.concat([scaler_train_data, temp_train], axis=1)\n",
    "X_test_scaled = pd.concat([scaler_test_data, temp_test], axis=1)\n",
    "X_train_scaled.head(2)"
   ]
  },
  {
   "cell_type": "code",
   "execution_count": 14,
   "metadata": {},
   "outputs": [],
   "source": [
    "#scaler = StandardScaler()\n",
    "#num_features = ['credit_score', 'age', 'tenure', 'balance', 'estimated_salary']\n",
    "#X_train[num_features] = scaler.fit_transform(X_train[num_features])\n",
    "#X_test[num_features] = scaler.transform(X_test[num_features])"
   ]
  },
  {
   "cell_type": "markdown",
   "metadata": {},
   "source": [
    "### Проанализируем баланс классов"
   ]
  },
  {
   "cell_type": "code",
   "execution_count": 15,
   "metadata": {},
   "outputs": [
    {
     "name": "stdout",
     "output_type": "stream",
     "text": [
      "Дисбаланс классов на тренировочной выборке = 3.99\n",
      "Дисбаланс классов на тренировочной выборке = 3.67\n",
      "Дисбаланс классов усредненный, округленный до целой части = 4.0\n"
     ]
    }
   ],
   "source": [
    "print('Дисбаланс классов на тренировочной выборке =', round(Y_train[Y_train==0].count()/Y_train[Y_train==1].count(),2))\n",
    "print('Дисбаланс классов на тренировочной выборке =', round(Y_test[Y_test==0].count()/Y_test[Y_test==1].count(),2))\n",
    "print('Дисбаланс классов усредненный, округленный до целой части =',\\\n",
    "      round(target[target==0].count()/target[target==1].count(),0))"
   ]
  },
  {
   "cell_type": "markdown",
   "metadata": {},
   "source": [
    "### Вывод:\n",
    "1/5 часть клиентов ушла, в представленном датасете дисбаланс между калссами в 4 раза."
   ]
  },
  {
   "cell_type": "markdown",
   "metadata": {},
   "source": [
    "# 2. Исследование задачи"
   ]
  },
  {
   "cell_type": "code",
   "execution_count": 16,
   "metadata": {},
   "outputs": [
    {
     "data": {
      "text/html": [
       "<div>\n",
       "<style scoped>\n",
       "    .dataframe tbody tr th:only-of-type {\n",
       "        vertical-align: middle;\n",
       "    }\n",
       "\n",
       "    .dataframe tbody tr th {\n",
       "        vertical-align: top;\n",
       "    }\n",
       "\n",
       "    .dataframe thead th {\n",
       "        text-align: right;\n",
       "    }\n",
       "</style>\n",
       "<table border=\"1\" class=\"dataframe\">\n",
       "  <thead>\n",
       "    <tr style=\"text-align: right;\">\n",
       "      <th></th>\n",
       "      <th>credit_score</th>\n",
       "      <th>age</th>\n",
       "      <th>tenure</th>\n",
       "      <th>balance</th>\n",
       "      <th>estimated_salary</th>\n",
       "      <th>gender_Male</th>\n",
       "      <th>geography_Germany</th>\n",
       "      <th>geography_Spain</th>\n",
       "      <th>has_cr_card</th>\n",
       "      <th>is_active_member</th>\n",
       "      <th>num_of_products</th>\n",
       "    </tr>\n",
       "  </thead>\n",
       "  <tbody>\n",
       "    <tr>\n",
       "      <td>0</td>\n",
       "      <td>0.442805</td>\n",
       "      <td>-0.841274</td>\n",
       "      <td>1.426885</td>\n",
       "      <td>-1.224577</td>\n",
       "      <td>-1.269750</td>\n",
       "      <td>0</td>\n",
       "      <td>0</td>\n",
       "      <td>0</td>\n",
       "      <td>1</td>\n",
       "      <td>1</td>\n",
       "      <td>2</td>\n",
       "    </tr>\n",
       "    <tr>\n",
       "      <td>1</td>\n",
       "      <td>-0.310897</td>\n",
       "      <td>-0.270730</td>\n",
       "      <td>0.784858</td>\n",
       "      <td>0.641783</td>\n",
       "      <td>0.960396</td>\n",
       "      <td>0</td>\n",
       "      <td>0</td>\n",
       "      <td>1</td>\n",
       "      <td>1</td>\n",
       "      <td>1</td>\n",
       "      <td>1</td>\n",
       "    </tr>\n",
       "    <tr>\n",
       "      <td>2</td>\n",
       "      <td>-0.259274</td>\n",
       "      <td>-0.556002</td>\n",
       "      <td>1.105871</td>\n",
       "      <td>-1.224577</td>\n",
       "      <td>0.661864</td>\n",
       "      <td>1</td>\n",
       "      <td>0</td>\n",
       "      <td>0</td>\n",
       "      <td>1</td>\n",
       "      <td>0</td>\n",
       "      <td>2</td>\n",
       "    </tr>\n",
       "    <tr>\n",
       "      <td>3</td>\n",
       "      <td>1.217157</td>\n",
       "      <td>1.155631</td>\n",
       "      <td>1.426885</td>\n",
       "      <td>1.290462</td>\n",
       "      <td>-1.039476</td>\n",
       "      <td>1</td>\n",
       "      <td>0</td>\n",
       "      <td>0</td>\n",
       "      <td>1</td>\n",
       "      <td>0</td>\n",
       "      <td>2</td>\n",
       "    </tr>\n",
       "    <tr>\n",
       "      <td>4</td>\n",
       "      <td>0.690598</td>\n",
       "      <td>-1.221637</td>\n",
       "      <td>-1.462240</td>\n",
       "      <td>1.142121</td>\n",
       "      <td>-0.851729</td>\n",
       "      <td>1</td>\n",
       "      <td>1</td>\n",
       "      <td>0</td>\n",
       "      <td>0</td>\n",
       "      <td>0</td>\n",
       "      <td>1</td>\n",
       "    </tr>\n",
       "  </tbody>\n",
       "</table>\n",
       "</div>"
      ],
      "text/plain": [
       "   credit_score       age    tenure   balance  estimated_salary  gender_Male  \\\n",
       "0      0.442805 -0.841274  1.426885 -1.224577         -1.269750            0   \n",
       "1     -0.310897 -0.270730  0.784858  0.641783          0.960396            0   \n",
       "2     -0.259274 -0.556002  1.105871 -1.224577          0.661864            1   \n",
       "3      1.217157  1.155631  1.426885  1.290462         -1.039476            1   \n",
       "4      0.690598 -1.221637 -1.462240  1.142121         -0.851729            1   \n",
       "\n",
       "   geography_Germany  geography_Spain  has_cr_card  is_active_member  \\\n",
       "0                  0                0            1                 1   \n",
       "1                  0                1            1                 1   \n",
       "2                  0                0            1                 0   \n",
       "3                  0                0            1                 0   \n",
       "4                  1                0            0                 0   \n",
       "\n",
       "   num_of_products  \n",
       "0                2  \n",
       "1                1  \n",
       "2                2  \n",
       "3                2  \n",
       "4                1  "
      ]
     },
     "execution_count": 16,
     "metadata": {},
     "output_type": "execute_result"
    }
   ],
   "source": [
    "X_train_scaled.head()"
   ]
  },
  {
   "cell_type": "code",
   "execution_count": 17,
   "metadata": {},
   "outputs": [
    {
     "name": "stdout",
     "output_type": "stream",
     "text": [
      "<class 'pandas.core.frame.DataFrame'>\n",
      "RangeIndex: 7500 entries, 0 to 7499\n",
      "Data columns (total 11 columns):\n",
      "credit_score         7500 non-null float64\n",
      "age                  7500 non-null float64\n",
      "tenure               7500 non-null float64\n",
      "balance              7500 non-null float64\n",
      "estimated_salary     7500 non-null float64\n",
      "gender_Male          7500 non-null uint8\n",
      "geography_Germany    7500 non-null uint8\n",
      "geography_Spain      7500 non-null uint8\n",
      "has_cr_card          7500 non-null int64\n",
      "is_active_member     7500 non-null int64\n",
      "num_of_products      7500 non-null int64\n",
      "dtypes: float64(5), int64(3), uint8(3)\n",
      "memory usage: 490.8 KB\n",
      "None\n"
     ]
    }
   ],
   "source": [
    "print(X_train_scaled.info())"
   ]
  },
  {
   "cell_type": "markdown",
   "metadata": {},
   "source": [
    "### Произведём обучение модели RandomForestClassifier"
   ]
  },
  {
   "cell_type": "code",
   "execution_count": 18,
   "metadata": {},
   "outputs": [],
   "source": [
    "rfc = RandomForestClassifier(random_state=12345)"
   ]
  },
  {
   "cell_type": "code",
   "execution_count": 19,
   "metadata": {},
   "outputs": [
    {
     "data": {
      "text/plain": [
       "dict_keys(['bootstrap', 'class_weight', 'criterion', 'max_depth', 'max_features', 'max_leaf_nodes', 'min_impurity_decrease', 'min_impurity_split', 'min_samples_leaf', 'min_samples_split', 'min_weight_fraction_leaf', 'n_estimators', 'n_jobs', 'oob_score', 'random_state', 'verbose', 'warm_start'])"
      ]
     },
     "execution_count": 19,
     "metadata": {},
     "output_type": "execute_result"
    }
   ],
   "source": [
    "#получим доступные параметры модели\n",
    "rfc.get_params().keys()"
   ]
  },
  {
   "cell_type": "markdown",
   "metadata": {},
   "source": [
    "Создадим словарь параметров для подбора идеальных гиперпараметров модели с помощью класса GridSearchCV"
   ]
  },
  {
   "cell_type": "code",
   "execution_count": 20,
   "metadata": {},
   "outputs": [],
   "source": [
    "param_grid = {'n_estimators': range(1, 50, 2)\\\n",
    "              #,'max_features': ['auto', 'sqrt', 'log2'],\\\n",
    "              ,'max_depth' : range(1, 50, 2),\\\n",
    "              'criterion' : ['gini', 'entropy']\\\n",
    "             }"
   ]
  },
  {
   "cell_type": "code",
   "execution_count": 21,
   "metadata": {},
   "outputs": [],
   "source": [
    "grid_cv = GridSearchCV(rfc, param_grid, scoring='f1', cv=3)"
   ]
  },
  {
   "cell_type": "code",
   "execution_count": 23,
   "metadata": {},
   "outputs": [
    {
     "name": "stdout",
     "output_type": "stream",
     "text": [
      "\n",
      "best_params_ \n",
      " {'criterion': 'entropy', 'max_depth': 15, 'n_estimators': 23}\n",
      "\n",
      "best_score \n",
      " 0.5722130265155729\n",
      "CPU times: user 15min 29s, sys: 3.35 s, total: 15min 32s\n",
      "Wall time: 15min 36s\n"
     ]
    }
   ],
   "source": [
    "%%time\n",
    "grid_cv.fit(X_train_scaled, Y_train)\n",
    "print('\\nbest_params_ \\n', grid_cv.best_params_)\n",
    "print('\\nbest_score \\n', grid_cv.best_score_)"
   ]
  },
  {
   "cell_type": "code",
   "execution_count": 24,
   "metadata": {},
   "outputs": [],
   "source": [
    "model_f1 = RandomForestClassifier(criterion='entropy',max_depth=15, max_features='auto', n_estimators = 23, random_state=12345)\n",
    "model_f1.fit(X_train_scaled, Y_train);"
   ]
  },
  {
   "cell_type": "code",
   "execution_count": 25,
   "metadata": {},
   "outputs": [
    {
     "data": {
      "image/png": "[encoded data removed]",
      "text/plain": [
       "<Figure size 432x432 with 1 Axes>"
      ]
     },
     "metadata": {},
     "output_type": "display_data"
    },
    {
     "name": "stdout",
     "output_type": "stream",
     "text": [
      "auc_roc = 0.8499036883783977\n"
     ]
    }
   ],
   "source": [
    "probabilities = model_f1.predict_proba(X_test_scaled)\n",
    "probabilities_one_valid = probabilities[:,1]\n",
    "auc_roc = roc_auc_score(Y_test, probabilities_one_valid)\n",
    "fpr, tpr, thresholds = roc_curve(Y_test, probabilities_one_valid)\n",
    "plt.figure(figsize=(6, 6))\n",
    "plt.step(fpr, tpr, where='post')\n",
    "plt.xlabel('FPR')\n",
    "plt.ylabel('TPR')\n",
    "plt.ylim([0.0, 1.05])\n",
    "plt.xlim([0.0, 1.0])\n",
    "plt.title('Кривая ROC - RFC model 1: criterion=entropy, max_depth=15, n_estimators=23')\n",
    "plt.show()\n",
    "print('auc_roc =', auc_roc)"
   ]
  },
  {
   "cell_type": "code",
   "execution_count": 26,
   "metadata": {},
   "outputs": [],
   "source": [
    "def main_param(target, predictions):\n",
    "    '''\n",
    "    Функция для вывода основных метрик\n",
    "    '''\n",
    "    from sklearn.metrics import confusion_matrix, recall_score, precision_score, f1_score\n",
    "    print('confusion_matrix\\n',confusion_matrix(target, predictions))\n",
    "    print('recall_score', recall_score(target, predictions))\n",
    "    print('precision_score', precision_score(target, predictions))\n",
    "    print('f1_score', f1_score(target, predictions))"
   ]
  },
  {
   "cell_type": "code",
   "execution_count": 27,
   "metadata": {},
   "outputs": [
    {
     "name": "stdout",
     "output_type": "stream",
     "text": [
      "recall_score 0.45\n",
      "precision_score 0.79\n",
      "f1_score 0.57\n"
     ]
    },
    {
     "data": {
      "text/html": [
       "<div>\n",
       "<style scoped>\n",
       "    .dataframe tbody tr th:only-of-type {\n",
       "        vertical-align: middle;\n",
       "    }\n",
       "\n",
       "    .dataframe tbody tr th {\n",
       "        vertical-align: top;\n",
       "    }\n",
       "\n",
       "    .dataframe thead th {\n",
       "        text-align: right;\n",
       "    }\n",
       "</style>\n",
       "<table border=\"1\" class=\"dataframe\">\n",
       "  <thead>\n",
       "    <tr style=\"text-align: right;\">\n",
       "      <th></th>\n",
       "      <th>type</th>\n",
       "      <th>criterion</th>\n",
       "      <th>max_depth</th>\n",
       "      <th>max_features</th>\n",
       "      <th>n_estimator</th>\n",
       "      <th>recall</th>\n",
       "      <th>precision</th>\n",
       "      <th>f1</th>\n",
       "    </tr>\n",
       "  </thead>\n",
       "  <tbody>\n",
       "    <tr>\n",
       "      <td>1</td>\n",
       "      <td>model 1</td>\n",
       "      <td>entropy</td>\n",
       "      <td>15</td>\n",
       "      <td>auto</td>\n",
       "      <td>23</td>\n",
       "      <td>0.45</td>\n",
       "      <td>0.79</td>\n",
       "      <td>0.57</td>\n",
       "    </tr>\n",
       "  </tbody>\n",
       "</table>\n",
       "</div>"
      ],
      "text/plain": [
       "      type criterion max_depth max_features n_estimator  recall  precision  \\\n",
       "1  model 1   entropy        15         auto          23    0.45       0.79   \n",
       "\n",
       "     f1  \n",
       "1  0.57  "
      ]
     },
     "execution_count": 27,
     "metadata": {},
     "output_type": "execute_result"
    }
   ],
   "source": [
    "predictions = model_f1.predict(X_test_scaled)\n",
    "print('recall_score', round(recall_score(Y_test, predictions),2))\n",
    "print('precision_score', round(precision_score(Y_test, predictions),2))\n",
    "print('f1_score', round(f1_score(Y_test, predictions),2))\n",
    "\n",
    "result=pd.DataFrame(columns = ['type','criterion', 'max_depth', 'max_features', 'n_estimator', 'recall', 'precision', 'f1'])\n",
    "result.loc[1] = ['model 1','entropy',15,'auto', 23,round(recall_score(Y_test, predictions),2),round(precision_score(Y_test, predictions),2),round(f1_score(Y_test, predictions),2)]\n",
    "result"
   ]
  },
  {
   "cell_type": "markdown",
   "metadata": {},
   "source": [
    "Для модели случайного леса с оптимальными параметрами найденными при наилучшей f1 мере вычисленны следующие метрики:\n",
    "Recall = 0.45 - эта величина находится между 0 и 1, т.е. средний показатель, но может быть лучше.\n",
    "Precision = 0.79 - данная величина близка к 1, что оптимально\n",
    "f1 = 0.57 - агрегирующая мера для данной модели максимальна, т.к. поиск гиперпараметров модели был на основании наилучше f1."
   ]
  },
  {
   "cell_type": "code",
   "execution_count": 28,
   "metadata": {},
   "outputs": [
    {
     "name": "stdout",
     "output_type": "stream",
     "text": [
      "Confusion matrix, without normalization\n",
      "[[1901   64]\n",
      " [ 294  241]]\n"
     ]
    },
    {
     "data": {
      "image/png": "[encoded data removed]",
      "text/plain": [
       "<Figure size 720x576 with 2 Axes>"
      ]
     },
     "metadata": {},
     "output_type": "display_data"
    }
   ],
   "source": [
    "# Воспользуемся функцией построения матрицы ошибок из документации sklearn\n",
    "\n",
    "def plot_confusion_matrix(cm, classes, normalize=False,title='Confusion matrix',cmap=plt.cm.Blues):\n",
    "    \"\"\"\n",
    "    This function prints and plots the confusion matrix.\n",
    "    Normalization can be applied by setting `normalize=True`.\n",
    "    \"\"\"\n",
    "    plt.imshow(cm, interpolation='nearest', cmap=cmap)\n",
    "    plt.title(title)\n",
    "    plt.colorbar()\n",
    "    tick_marks = np.arange(len(classes))\n",
    "    plt.xticks(tick_marks, classes, rotation=45)\n",
    "    plt.yticks(tick_marks, classes)\n",
    "\n",
    "    if normalize:\n",
    "        cm = cm.astype('float') / cm.sum(axis=1)[:, np.newaxis]\n",
    "        print(\"Normalized confusion matrix\")\n",
    "    else:\n",
    "        print('Confusion matrix, without normalization')\n",
    "\n",
    "    print(cm)\n",
    "\n",
    "    thresh = cm.max() / 2.\n",
    "    for i, j in itertools.product(range(cm.shape[0]), range(cm.shape[1])):\n",
    "        plt.text(j, i, cm[i, j],\n",
    "                 horizontalalignment=\"center\",\n",
    "                 color=\"white\" if cm[i, j] > thresh else \"black\")\n",
    "\n",
    "    plt.tight_layout()\n",
    "    plt.ylabel('True label')\n",
    "    plt.xlabel('Predicted label')\n",
    "\n",
    "font = {'size' : 15}\n",
    "\n",
    "plt.rc('font', **font)\n",
    "\n",
    "plt.figure(figsize=(10, 8))\n",
    "\n",
    "cnf_matrix = confusion_matrix(Y_test, predictions);\n",
    "plot_confusion_matrix(cnf_matrix, classes=['0 - не ушел', '1 - ушёл'],title='Confusion matrix')\n",
    "plt.savefig(\"conf_matrix.png\")\n",
    "plt.show()"
   ]
  },
  {
   "cell_type": "markdown",
   "metadata": {},
   "source": [
    "TN - истино-отрицательные ответы = 1901, т.е правильно определённые отрицательные ответы, означающие, что клиент остался;\n",
    "FN - ложно-отрицательные ответы  = 394, показывает, что клиент остался, не смотря на то, что он ушёл, т.е. ошибка;\n",
    "TP - истино-положительные ответы = 226, значит, что клиент ушёл;\n",
    "FP - ложно-положительные ответы  = 61, ошибка, показывает, что клиент ушел, а он оставлся."
   ]
  },
  {
   "cell_type": "markdown",
   "metadata": {},
   "source": [
    "F1 мера получилась ниже, чем у более ранней модели, что и стоило ожидать. Теперь рассмотрим модель обученую без гиперпараметров."
   ]
  },
  {
   "cell_type": "code",
   "execution_count": 29,
   "metadata": {},
   "outputs": [
    {
     "name": "stdout",
     "output_type": "stream",
     "text": [
      "confusion_matrix\n",
      " [[1888   77]\n",
      " [ 316  219]]\n",
      "recall_score 0.4093457943925234\n",
      "precision_score 0.7398648648648649\n",
      "f1_score 0.5270758122743683\n"
     ]
    }
   ],
   "source": [
    "model_simple = RandomForestClassifier(random_state=12345)\n",
    "model_simple.fit(X_train_scaled, Y_train)\n",
    "predictions = model_simple.predict(X_test_scaled)\n",
    "main_param(Y_test, predictions)"
   ]
  },
  {
   "cell_type": "code",
   "execution_count": 30,
   "metadata": {},
   "outputs": [
    {
     "data": {
      "image/png": "[encoded data removed]",
      "text/plain": [
       "<Figure size 432x432 with 1 Axes>"
      ]
     },
     "metadata": {},
     "output_type": "display_data"
    },
    {
     "name": "stdout",
     "output_type": "stream",
     "text": [
      "auc_roc = 0.8125109985493805\n"
     ]
    }
   ],
   "source": [
    "probabilities = model_simple.predict_proba(X_test_scaled)\n",
    "probabilities_one_valid = probabilities[:,1]\n",
    "auc_roc = roc_auc_score(Y_test, probabilities_one_valid)\n",
    "fpr, tpr, thresholds = roc_curve(Y_test, probabilities_one_valid)\n",
    "plt.figure(figsize=(6, 6))\n",
    "plt.step(fpr, tpr, where='post')\n",
    "plt.xlabel('FPR')\n",
    "plt.ylabel('TPR')\n",
    "plt.ylim([0.0, 1.05])\n",
    "plt.xlim([0.0, 1.0])\n",
    "plt.title('Кривая ROC - RFC simple model')\n",
    "plt.show()\n",
    "print('auc_roc =', auc_roc)"
   ]
  },
  {
   "cell_type": "code",
   "execution_count": 31,
   "metadata": {},
   "outputs": [
    {
     "data": {
      "text/plain": [
       "{'bootstrap': True,\n",
       " 'class_weight': None,\n",
       " 'criterion': 'gini',\n",
       " 'max_depth': None,\n",
       " 'max_features': 'auto',\n",
       " 'max_leaf_nodes': None,\n",
       " 'min_impurity_decrease': 0.0,\n",
       " 'min_impurity_split': None,\n",
       " 'min_samples_leaf': 1,\n",
       " 'min_samples_split': 2,\n",
       " 'min_weight_fraction_leaf': 0.0,\n",
       " 'n_estimators': 10,\n",
       " 'n_jobs': None,\n",
       " 'oob_score': False,\n",
       " 'random_state': 12345,\n",
       " 'verbose': 0,\n",
       " 'warm_start': False}"
      ]
     },
     "execution_count": 31,
     "metadata": {},
     "output_type": "execute_result"
    }
   ],
   "source": [
    "model_simple.get_params()"
   ]
  },
  {
   "cell_type": "code",
   "execution_count": 32,
   "metadata": {},
   "outputs": [
    {
     "data": {
      "text/html": [
       "<div>\n",
       "<style scoped>\n",
       "    .dataframe tbody tr th:only-of-type {\n",
       "        vertical-align: middle;\n",
       "    }\n",
       "\n",
       "    .dataframe tbody tr th {\n",
       "        vertical-align: top;\n",
       "    }\n",
       "\n",
       "    .dataframe thead th {\n",
       "        text-align: right;\n",
       "    }\n",
       "</style>\n",
       "<table border=\"1\" class=\"dataframe\">\n",
       "  <thead>\n",
       "    <tr style=\"text-align: right;\">\n",
       "      <th></th>\n",
       "      <th>type</th>\n",
       "      <th>criterion</th>\n",
       "      <th>max_depth</th>\n",
       "      <th>max_features</th>\n",
       "      <th>n_estimator</th>\n",
       "      <th>recall</th>\n",
       "      <th>precision</th>\n",
       "      <th>f1</th>\n",
       "    </tr>\n",
       "  </thead>\n",
       "  <tbody>\n",
       "    <tr>\n",
       "      <td>1</td>\n",
       "      <td>model 1</td>\n",
       "      <td>entropy</td>\n",
       "      <td>15</td>\n",
       "      <td>auto</td>\n",
       "      <td>23</td>\n",
       "      <td>0.45</td>\n",
       "      <td>0.79</td>\n",
       "      <td>0.57</td>\n",
       "    </tr>\n",
       "    <tr>\n",
       "      <td>2</td>\n",
       "      <td>model 2: simple model without params</td>\n",
       "      <td>gini</td>\n",
       "      <td>None</td>\n",
       "      <td>auto</td>\n",
       "      <td>10</td>\n",
       "      <td>0.49</td>\n",
       "      <td>0.74</td>\n",
       "      <td>0.53</td>\n",
       "    </tr>\n",
       "  </tbody>\n",
       "</table>\n",
       "</div>"
      ],
      "text/plain": [
       "                                   type criterion max_depth max_features  \\\n",
       "1                               model 1   entropy        15         auto   \n",
       "2  model 2: simple model without params      gini      None         auto   \n",
       "\n",
       "  n_estimator  recall  precision    f1  \n",
       "1          23    0.45       0.79  0.57  \n",
       "2          10    0.49       0.74  0.53  "
      ]
     },
     "execution_count": 32,
     "metadata": {},
     "output_type": "execute_result"
    }
   ],
   "source": [
    "result.loc[2] = ['model 2: simple model without params','gini',None,'auto', 10,0.49,0.74,0.53]\n",
    "result"
   ]
  },
  {
   "cell_type": "markdown",
   "metadata": {},
   "source": [
    "## Вывод\n",
    "Даже без установки гиперпараметров модель показывает сравнимое значение с моделью, по которой был произведен поиск оптимальных параметров с помощью класса GridSearchCV, но не одинаковое, утановка гиперпараметров улучшает качество модели. Возможно поможет устранение дисбаланса классов, а он есть в соотношении нулей и едиц 4:1 соотвественно."
   ]
  },
  {
   "cell_type": "markdown",
   "metadata": {},
   "source": [
    "# 3. Борьба с дисбалансом"
   ]
  },
  {
   "cell_type": "markdown",
   "metadata": {},
   "source": [
    "Воспользуемся параметром class_weight, рассмотрим его влияние:"
   ]
  },
  {
   "cell_type": "code",
   "execution_count": 33,
   "metadata": {},
   "outputs": [
    {
     "name": "stdout",
     "output_type": "stream",
     "text": [
      "confusion_matrix\n",
      " [[1895   70]\n",
      " [ 314  221]]\n",
      "recall_score 0.4130841121495327\n",
      "precision_score 0.7594501718213058\n",
      "f1_score 0.5351089588377723\n"
     ]
    }
   ],
   "source": [
    "model_simple = RandomForestClassifier(class_weight='balanced', random_state=12345)\n",
    "model_simple.fit(X_train_scaled,Y_train)\n",
    "predictions = model_simple.predict(X_test_scaled)\n",
    "main_param(Y_test, predictions)"
   ]
  },
  {
   "cell_type": "code",
   "execution_count": 34,
   "metadata": {},
   "outputs": [
    {
     "data": {
      "image/png": "[encoded data removed]",
      "text/plain": [
       "<Figure size 432x432 with 1 Axes>"
      ]
     },
     "metadata": {},
     "output_type": "display_data"
    },
    {
     "name": "stdout",
     "output_type": "stream",
     "text": [
      "auc_roc = 0.8267004351858458\n"
     ]
    }
   ],
   "source": [
    "probabilities = model_simple.predict_proba(X_test_scaled)\n",
    "probabilities_one_valid = probabilities[:,1]\n",
    "auc_roc = roc_auc_score(Y_test, probabilities_one_valid)\n",
    "fpr, tpr, thresholds = roc_curve(Y_test, probabilities_one_valid)\n",
    "plt.figure(figsize=(6, 6))\n",
    "plt.step(fpr, tpr, where='post')\n",
    "plt.xlabel('FPR')\n",
    "plt.ylabel('TPR')\n",
    "plt.ylim([0.0, 1.05])\n",
    "plt.xlim([0.0, 1.0])\n",
    "plt.title('Кривая ROC - RFC simple model')\n",
    "plt.show()\n",
    "print('auc_roc =', auc_roc)"
   ]
  },
  {
   "cell_type": "code",
   "execution_count": 35,
   "metadata": {},
   "outputs": [
    {
     "data": {
      "text/html": [
       "<div>\n",
       "<style scoped>\n",
       "    .dataframe tbody tr th:only-of-type {\n",
       "        vertical-align: middle;\n",
       "    }\n",
       "\n",
       "    .dataframe tbody tr th {\n",
       "        vertical-align: top;\n",
       "    }\n",
       "\n",
       "    .dataframe thead th {\n",
       "        text-align: right;\n",
       "    }\n",
       "</style>\n",
       "<table border=\"1\" class=\"dataframe\">\n",
       "  <thead>\n",
       "    <tr style=\"text-align: right;\">\n",
       "      <th></th>\n",
       "      <th>type</th>\n",
       "      <th>criterion</th>\n",
       "      <th>max_depth</th>\n",
       "      <th>max_features</th>\n",
       "      <th>n_estimator</th>\n",
       "      <th>recall</th>\n",
       "      <th>precision</th>\n",
       "      <th>f1</th>\n",
       "      <th>class_weight</th>\n",
       "    </tr>\n",
       "  </thead>\n",
       "  <tbody>\n",
       "    <tr>\n",
       "      <td>1</td>\n",
       "      <td>model 1</td>\n",
       "      <td>entropy</td>\n",
       "      <td>15</td>\n",
       "      <td>auto</td>\n",
       "      <td>23</td>\n",
       "      <td>0.45</td>\n",
       "      <td>0.79</td>\n",
       "      <td>0.57</td>\n",
       "      <td>False</td>\n",
       "    </tr>\n",
       "    <tr>\n",
       "      <td>2</td>\n",
       "      <td>model 2: simple model without params</td>\n",
       "      <td>gini</td>\n",
       "      <td>None</td>\n",
       "      <td>auto</td>\n",
       "      <td>10</td>\n",
       "      <td>0.49</td>\n",
       "      <td>0.74</td>\n",
       "      <td>0.53</td>\n",
       "      <td>False</td>\n",
       "    </tr>\n",
       "    <tr>\n",
       "      <td>3</td>\n",
       "      <td>model 2: simple model without params</td>\n",
       "      <td>gini</td>\n",
       "      <td>None</td>\n",
       "      <td>auto</td>\n",
       "      <td>10</td>\n",
       "      <td>0.41</td>\n",
       "      <td>0.76</td>\n",
       "      <td>0.53</td>\n",
       "      <td>True</td>\n",
       "    </tr>\n",
       "  </tbody>\n",
       "</table>\n",
       "</div>"
      ],
      "text/plain": [
       "                                   type criterion max_depth max_features  \\\n",
       "1                               model 1   entropy        15         auto   \n",
       "2  model 2: simple model without params      gini      None         auto   \n",
       "3  model 2: simple model without params      gini      None         auto   \n",
       "\n",
       "  n_estimator  recall  precision    f1  class_weight  \n",
       "1          23    0.45       0.79  0.57         False  \n",
       "2          10    0.49       0.74  0.53         False  \n",
       "3          10    0.41       0.76  0.53          True  "
      ]
     },
     "execution_count": 35,
     "metadata": {},
     "output_type": "execute_result"
    }
   ],
   "source": [
    "result['class_weight'] = False\n",
    "result.loc[3] = ['model 2: simple model without params','gini',None,'auto', 10, 0.41, 0.76, 0.53, True]\n",
    "result"
   ]
  },
  {
   "cell_type": "markdown",
   "metadata": {},
   "source": [
    "Установка параметра модели по взвешиванию не привела к существенному улучшению показателей, воспользуемся уменьшенем и увеличением классов."
   ]
  },
  {
   "cell_type": "markdown",
   "metadata": {},
   "source": [
    "### Upsampling\n",
    "\n",
    "Преобразование проходит в несколько этапов:\n",
    "* Разделить обучающую выборку на объекты по классам;\n",
    "* Определить тот класс, который содержит меньше объектов. Назовём его меньшим классом;\n",
    "* Скопировать несколько раз объекты меньшего класса;\n",
    "* С учётом полученных данных создать новую обучающую выборку;\n",
    "* Перемешать данные."
   ]
  },
  {
   "cell_type": "code",
   "execution_count": 36,
   "metadata": {},
   "outputs": [
    {
     "data": {
      "text/plain": [
       "4"
      ]
     },
     "execution_count": 36,
     "metadata": {},
     "output_type": "execute_result"
    }
   ],
   "source": [
    "repeat = int(round(Y_train[Y_train==0].count()/Y_train[Y_train==1].count(),0))\n",
    "repeat"
   ]
  },
  {
   "cell_type": "code",
   "execution_count": 37,
   "metadata": {},
   "outputs": [
    {
     "name": "stdout",
     "output_type": "stream",
     "text": [
      "0    5998\n",
      "1    1502\n",
      "Name: exited, dtype: int64\n"
     ]
    },
    {
     "data": {
      "text/plain": [
       "0       0\n",
       "1       0\n",
       "2       0\n",
       "3       0\n",
       "4       0\n",
       "       ..\n",
       "7495    0\n",
       "7496    0\n",
       "7497    0\n",
       "7498    0\n",
       "7499    0\n",
       "Name: exited, Length: 7500, dtype: uint8"
      ]
     },
     "execution_count": 37,
     "metadata": {},
     "output_type": "execute_result"
    }
   ],
   "source": [
    "print(Y_train.value_counts())\n",
    "Y_train = Y_train.astype('uint8').reset_index(drop=True)\n",
    "Y_train"
   ]
  },
  {
   "cell_type": "code",
   "execution_count": 38,
   "metadata": {},
   "outputs": [
    {
     "name": "stdout",
     "output_type": "stream",
     "text": [
      "None пропусков нет в таблице\n",
      "\n",
      "\n"
     ]
    },
    {
     "data": {
      "text/html": [
       "<div>\n",
       "<style scoped>\n",
       "    .dataframe tbody tr th:only-of-type {\n",
       "        vertical-align: middle;\n",
       "    }\n",
       "\n",
       "    .dataframe tbody tr th {\n",
       "        vertical-align: top;\n",
       "    }\n",
       "\n",
       "    .dataframe thead th {\n",
       "        text-align: right;\n",
       "    }\n",
       "</style>\n",
       "<table border=\"1\" class=\"dataframe\">\n",
       "  <thead>\n",
       "    <tr style=\"text-align: right;\">\n",
       "      <th></th>\n",
       "      <th>credit_score</th>\n",
       "      <th>age</th>\n",
       "      <th>tenure</th>\n",
       "      <th>balance</th>\n",
       "      <th>estimated_salary</th>\n",
       "      <th>gender_Male</th>\n",
       "      <th>geography_Germany</th>\n",
       "      <th>geography_Spain</th>\n",
       "      <th>has_cr_card</th>\n",
       "      <th>is_active_member</th>\n",
       "      <th>num_of_products</th>\n",
       "    </tr>\n",
       "  </thead>\n",
       "  <tbody>\n",
       "    <tr>\n",
       "      <td>0</td>\n",
       "      <td>0.442805</td>\n",
       "      <td>-0.841274</td>\n",
       "      <td>1.426885</td>\n",
       "      <td>-1.224577</td>\n",
       "      <td>-1.269750</td>\n",
       "      <td>0</td>\n",
       "      <td>0</td>\n",
       "      <td>0</td>\n",
       "      <td>1</td>\n",
       "      <td>1</td>\n",
       "      <td>2</td>\n",
       "    </tr>\n",
       "    <tr>\n",
       "      <td>1</td>\n",
       "      <td>-0.310897</td>\n",
       "      <td>-0.270730</td>\n",
       "      <td>0.784858</td>\n",
       "      <td>0.641783</td>\n",
       "      <td>0.960396</td>\n",
       "      <td>0</td>\n",
       "      <td>0</td>\n",
       "      <td>1</td>\n",
       "      <td>1</td>\n",
       "      <td>1</td>\n",
       "      <td>1</td>\n",
       "    </tr>\n",
       "    <tr>\n",
       "      <td>2</td>\n",
       "      <td>-0.259274</td>\n",
       "      <td>-0.556002</td>\n",
       "      <td>1.105871</td>\n",
       "      <td>-1.224577</td>\n",
       "      <td>0.661864</td>\n",
       "      <td>1</td>\n",
       "      <td>0</td>\n",
       "      <td>0</td>\n",
       "      <td>1</td>\n",
       "      <td>0</td>\n",
       "      <td>2</td>\n",
       "    </tr>\n",
       "    <tr>\n",
       "      <td>3</td>\n",
       "      <td>1.217157</td>\n",
       "      <td>1.155631</td>\n",
       "      <td>1.426885</td>\n",
       "      <td>1.290462</td>\n",
       "      <td>-1.039476</td>\n",
       "      <td>1</td>\n",
       "      <td>0</td>\n",
       "      <td>0</td>\n",
       "      <td>1</td>\n",
       "      <td>0</td>\n",
       "      <td>2</td>\n",
       "    </tr>\n",
       "    <tr>\n",
       "      <td>4</td>\n",
       "      <td>0.690598</td>\n",
       "      <td>-1.221637</td>\n",
       "      <td>-1.462240</td>\n",
       "      <td>1.142121</td>\n",
       "      <td>-0.851729</td>\n",
       "      <td>1</td>\n",
       "      <td>1</td>\n",
       "      <td>0</td>\n",
       "      <td>0</td>\n",
       "      <td>0</td>\n",
       "      <td>1</td>\n",
       "    </tr>\n",
       "    <tr>\n",
       "      <td>...</td>\n",
       "      <td>...</td>\n",
       "      <td>...</td>\n",
       "      <td>...</td>\n",
       "      <td>...</td>\n",
       "      <td>...</td>\n",
       "      <td>...</td>\n",
       "      <td>...</td>\n",
       "      <td>...</td>\n",
       "      <td>...</td>\n",
       "      <td>...</td>\n",
       "      <td>...</td>\n",
       "    </tr>\n",
       "    <tr>\n",
       "      <td>7495</td>\n",
       "      <td>-1.054275</td>\n",
       "      <td>-0.746183</td>\n",
       "      <td>-0.178184</td>\n",
       "      <td>-1.224577</td>\n",
       "      <td>-1.291837</td>\n",
       "      <td>1</td>\n",
       "      <td>0</td>\n",
       "      <td>0</td>\n",
       "      <td>0</td>\n",
       "      <td>1</td>\n",
       "      <td>2</td>\n",
       "    </tr>\n",
       "    <tr>\n",
       "      <td>7496</td>\n",
       "      <td>-1.425964</td>\n",
       "      <td>-0.936365</td>\n",
       "      <td>1.747899</td>\n",
       "      <td>-1.224577</td>\n",
       "      <td>-1.294782</td>\n",
       "      <td>1</td>\n",
       "      <td>0</td>\n",
       "      <td>0</td>\n",
       "      <td>0</td>\n",
       "      <td>1</td>\n",
       "      <td>2</td>\n",
       "    </tr>\n",
       "    <tr>\n",
       "      <td>7497</td>\n",
       "      <td>0.040142</td>\n",
       "      <td>0.585087</td>\n",
       "      <td>-1.462240</td>\n",
       "      <td>-0.304909</td>\n",
       "      <td>-0.916678</td>\n",
       "      <td>0</td>\n",
       "      <td>0</td>\n",
       "      <td>0</td>\n",
       "      <td>0</td>\n",
       "      <td>1</td>\n",
       "      <td>1</td>\n",
       "    </tr>\n",
       "    <tr>\n",
       "      <td>7498</td>\n",
       "      <td>0.164039</td>\n",
       "      <td>-1.411819</td>\n",
       "      <td>-0.178184</td>\n",
       "      <td>-1.224577</td>\n",
       "      <td>-1.142032</td>\n",
       "      <td>0</td>\n",
       "      <td>0</td>\n",
       "      <td>0</td>\n",
       "      <td>0</td>\n",
       "      <td>1</td>\n",
       "      <td>2</td>\n",
       "    </tr>\n",
       "    <tr>\n",
       "      <td>7499</td>\n",
       "      <td>0.411831</td>\n",
       "      <td>-0.080548</td>\n",
       "      <td>-1.141226</td>\n",
       "      <td>-1.224577</td>\n",
       "      <td>-0.963356</td>\n",
       "      <td>1</td>\n",
       "      <td>0</td>\n",
       "      <td>0</td>\n",
       "      <td>0</td>\n",
       "      <td>0</td>\n",
       "      <td>2</td>\n",
       "    </tr>\n",
       "  </tbody>\n",
       "</table>\n",
       "<p>7500 rows × 11 columns</p>\n",
       "</div>"
      ],
      "text/plain": [
       "      credit_score       age    tenure   balance  estimated_salary  \\\n",
       "0         0.442805 -0.841274  1.426885 -1.224577         -1.269750   \n",
       "1        -0.310897 -0.270730  0.784858  0.641783          0.960396   \n",
       "2        -0.259274 -0.556002  1.105871 -1.224577          0.661864   \n",
       "3         1.217157  1.155631  1.426885  1.290462         -1.039476   \n",
       "4         0.690598 -1.221637 -1.462240  1.142121         -0.851729   \n",
       "...            ...       ...       ...       ...               ...   \n",
       "7495     -1.054275 -0.746183 -0.178184 -1.224577         -1.291837   \n",
       "7496     -1.425964 -0.936365  1.747899 -1.224577         -1.294782   \n",
       "7497      0.040142  0.585087 -1.462240 -0.304909         -0.916678   \n",
       "7498      0.164039 -1.411819 -0.178184 -1.224577         -1.142032   \n",
       "7499      0.411831 -0.080548 -1.141226 -1.224577         -0.963356   \n",
       "\n",
       "      gender_Male  geography_Germany  geography_Spain  has_cr_card  \\\n",
       "0               0                  0                0            1   \n",
       "1               0                  0                1            1   \n",
       "2               1                  0                0            1   \n",
       "3               1                  0                0            1   \n",
       "4               1                  1                0            0   \n",
       "...           ...                ...              ...          ...   \n",
       "7495            1                  0                0            0   \n",
       "7496            1                  0                0            0   \n",
       "7497            0                  0                0            0   \n",
       "7498            0                  0                0            0   \n",
       "7499            1                  0                0            0   \n",
       "\n",
       "      is_active_member  num_of_products  \n",
       "0                    1                2  \n",
       "1                    1                1  \n",
       "2                    0                2  \n",
       "3                    0                2  \n",
       "4                    0                1  \n",
       "...                ...              ...  \n",
       "7495                 1                2  \n",
       "7496                 1                2  \n",
       "7497                 1                1  \n",
       "7498                 1                2  \n",
       "7499                 0                2  \n",
       "\n",
       "[7500 rows x 11 columns]"
      ]
     },
     "execution_count": 38,
     "metadata": {},
     "output_type": "execute_result"
    }
   ],
   "source": [
    "search_none(X_train_scaled)\n",
    "search_nan(X_train_scaled)\n",
    "X_train_scaled"
   ]
  },
  {
   "cell_type": "code",
   "execution_count": 39,
   "metadata": {},
   "outputs": [
    {
     "name": "stdout",
     "output_type": "stream",
     "text": [
      "<class 'pandas.core.frame.DataFrame'>\n",
      "RangeIndex: 7500 entries, 0 to 7499\n",
      "Data columns (total 11 columns):\n",
      "credit_score         7500 non-null float64\n",
      "age                  7500 non-null float64\n",
      "tenure               7500 non-null float64\n",
      "balance              7500 non-null float64\n",
      "estimated_salary     7500 non-null float64\n",
      "gender_Male          7500 non-null uint8\n",
      "geography_Germany    7500 non-null uint8\n",
      "geography_Spain      7500 non-null uint8\n",
      "has_cr_card          7500 non-null int64\n",
      "is_active_member     7500 non-null int64\n",
      "num_of_products      7500 non-null int64\n",
      "dtypes: float64(5), int64(3), uint8(3)\n",
      "memory usage: 490.8 KB\n"
     ]
    }
   ],
   "source": [
    "X_train_scaled.info()"
   ]
  },
  {
   "cell_type": "code",
   "execution_count": 40,
   "metadata": {},
   "outputs": [
    {
     "data": {
      "text/html": [
       "<div>\n",
       "<style scoped>\n",
       "    .dataframe tbody tr th:only-of-type {\n",
       "        vertical-align: middle;\n",
       "    }\n",
       "\n",
       "    .dataframe tbody tr th {\n",
       "        vertical-align: top;\n",
       "    }\n",
       "\n",
       "    .dataframe thead th {\n",
       "        text-align: right;\n",
       "    }\n",
       "</style>\n",
       "<table border=\"1\" class=\"dataframe\">\n",
       "  <thead>\n",
       "    <tr style=\"text-align: right;\">\n",
       "      <th></th>\n",
       "      <th>credit_score</th>\n",
       "      <th>age</th>\n",
       "      <th>tenure</th>\n",
       "      <th>balance</th>\n",
       "      <th>estimated_salary</th>\n",
       "      <th>gender_Male</th>\n",
       "      <th>geography_Germany</th>\n",
       "      <th>geography_Spain</th>\n",
       "      <th>has_cr_card</th>\n",
       "      <th>is_active_member</th>\n",
       "      <th>num_of_products</th>\n",
       "    </tr>\n",
       "  </thead>\n",
       "  <tbody>\n",
       "    <tr>\n",
       "      <td>7</td>\n",
       "      <td>-0.589664</td>\n",
       "      <td>1.631085</td>\n",
       "      <td>-1.462240</td>\n",
       "      <td>-1.224577</td>\n",
       "      <td>-1.282642</td>\n",
       "      <td>0</td>\n",
       "      <td>0</td>\n",
       "      <td>0</td>\n",
       "      <td>1</td>\n",
       "      <td>0</td>\n",
       "      <td>1</td>\n",
       "    </tr>\n",
       "    <tr>\n",
       "      <td>21</td>\n",
       "      <td>-0.259274</td>\n",
       "      <td>1.250722</td>\n",
       "      <td>-1.462240</td>\n",
       "      <td>-1.224577</td>\n",
       "      <td>-1.179716</td>\n",
       "      <td>0</td>\n",
       "      <td>0</td>\n",
       "      <td>0</td>\n",
       "      <td>1</td>\n",
       "      <td>0</td>\n",
       "      <td>2</td>\n",
       "    </tr>\n",
       "    <tr>\n",
       "      <td>26</td>\n",
       "      <td>0.277610</td>\n",
       "      <td>0.394906</td>\n",
       "      <td>-1.141226</td>\n",
       "      <td>0.912877</td>\n",
       "      <td>0.186138</td>\n",
       "      <td>1</td>\n",
       "      <td>0</td>\n",
       "      <td>0</td>\n",
       "      <td>1</td>\n",
       "      <td>0</td>\n",
       "      <td>1</td>\n",
       "    </tr>\n",
       "    <tr>\n",
       "      <td>29</td>\n",
       "      <td>0.938391</td>\n",
       "      <td>-1.031456</td>\n",
       "      <td>-0.820212</td>\n",
       "      <td>1.853403</td>\n",
       "      <td>0.141550</td>\n",
       "      <td>0</td>\n",
       "      <td>0</td>\n",
       "      <td>0</td>\n",
       "      <td>1</td>\n",
       "      <td>0</td>\n",
       "      <td>1</td>\n",
       "    </tr>\n",
       "    <tr>\n",
       "      <td>55</td>\n",
       "      <td>0.711247</td>\n",
       "      <td>0.585087</td>\n",
       "      <td>-1.141226</td>\n",
       "      <td>0.425911</td>\n",
       "      <td>-1.119562</td>\n",
       "      <td>0</td>\n",
       "      <td>0</td>\n",
       "      <td>0</td>\n",
       "      <td>1</td>\n",
       "      <td>1</td>\n",
       "      <td>2</td>\n",
       "    </tr>\n",
       "    <tr>\n",
       "      <td>...</td>\n",
       "      <td>...</td>\n",
       "      <td>...</td>\n",
       "      <td>...</td>\n",
       "      <td>...</td>\n",
       "      <td>...</td>\n",
       "      <td>...</td>\n",
       "      <td>...</td>\n",
       "      <td>...</td>\n",
       "      <td>...</td>\n",
       "      <td>...</td>\n",
       "      <td>...</td>\n",
       "    </tr>\n",
       "    <tr>\n",
       "      <td>7472</td>\n",
       "      <td>-1.157522</td>\n",
       "      <td>-0.080548</td>\n",
       "      <td>1.105871</td>\n",
       "      <td>0.466873</td>\n",
       "      <td>-0.341293</td>\n",
       "      <td>0</td>\n",
       "      <td>1</td>\n",
       "      <td>0</td>\n",
       "      <td>0</td>\n",
       "      <td>0</td>\n",
       "      <td>1</td>\n",
       "    </tr>\n",
       "    <tr>\n",
       "      <td>7479</td>\n",
       "      <td>0.370533</td>\n",
       "      <td>2.106539</td>\n",
       "      <td>0.784858</td>\n",
       "      <td>0.067461</td>\n",
       "      <td>0.537200</td>\n",
       "      <td>0</td>\n",
       "      <td>0</td>\n",
       "      <td>0</td>\n",
       "      <td>1</td>\n",
       "      <td>0</td>\n",
       "      <td>1</td>\n",
       "    </tr>\n",
       "    <tr>\n",
       "      <td>7486</td>\n",
       "      <td>-2.768174</td>\n",
       "      <td>0.870359</td>\n",
       "      <td>1.105871</td>\n",
       "      <td>0.312423</td>\n",
       "      <td>0.647971</td>\n",
       "      <td>0</td>\n",
       "      <td>0</td>\n",
       "      <td>1</td>\n",
       "      <td>0</td>\n",
       "      <td>0</td>\n",
       "      <td>1</td>\n",
       "    </tr>\n",
       "    <tr>\n",
       "      <td>7488</td>\n",
       "      <td>-0.021806</td>\n",
       "      <td>-0.175639</td>\n",
       "      <td>1.105871</td>\n",
       "      <td>0.616092</td>\n",
       "      <td>0.110343</td>\n",
       "      <td>0</td>\n",
       "      <td>1</td>\n",
       "      <td>0</td>\n",
       "      <td>1</td>\n",
       "      <td>1</td>\n",
       "      <td>1</td>\n",
       "    </tr>\n",
       "    <tr>\n",
       "      <td>7491</td>\n",
       "      <td>-0.362521</td>\n",
       "      <td>0.489996</td>\n",
       "      <td>0.142830</td>\n",
       "      <td>0.412018</td>\n",
       "      <td>1.349889</td>\n",
       "      <td>1</td>\n",
       "      <td>0</td>\n",
       "      <td>0</td>\n",
       "      <td>0</td>\n",
       "      <td>1</td>\n",
       "      <td>1</td>\n",
       "    </tr>\n",
       "  </tbody>\n",
       "</table>\n",
       "<p>1502 rows × 11 columns</p>\n",
       "</div>"
      ],
      "text/plain": [
       "      credit_score       age    tenure   balance  estimated_salary  \\\n",
       "7        -0.589664  1.631085 -1.462240 -1.224577         -1.282642   \n",
       "21       -0.259274  1.250722 -1.462240 -1.224577         -1.179716   \n",
       "26        0.277610  0.394906 -1.141226  0.912877          0.186138   \n",
       "29        0.938391 -1.031456 -0.820212  1.853403          0.141550   \n",
       "55        0.711247  0.585087 -1.141226  0.425911         -1.119562   \n",
       "...            ...       ...       ...       ...               ...   \n",
       "7472     -1.157522 -0.080548  1.105871  0.466873         -0.341293   \n",
       "7479      0.370533  2.106539  0.784858  0.067461          0.537200   \n",
       "7486     -2.768174  0.870359  1.105871  0.312423          0.647971   \n",
       "7488     -0.021806 -0.175639  1.105871  0.616092          0.110343   \n",
       "7491     -0.362521  0.489996  0.142830  0.412018          1.349889   \n",
       "\n",
       "      gender_Male  geography_Germany  geography_Spain  has_cr_card  \\\n",
       "7               0                  0                0            1   \n",
       "21              0                  0                0            1   \n",
       "26              1                  0                0            1   \n",
       "29              0                  0                0            1   \n",
       "55              0                  0                0            1   \n",
       "...           ...                ...              ...          ...   \n",
       "7472            0                  1                0            0   \n",
       "7479            0                  0                0            1   \n",
       "7486            0                  0                1            0   \n",
       "7488            0                  1                0            1   \n",
       "7491            1                  0                0            0   \n",
       "\n",
       "      is_active_member  num_of_products  \n",
       "7                    0                1  \n",
       "21                   0                2  \n",
       "26                   0                1  \n",
       "29                   0                1  \n",
       "55                   1                2  \n",
       "...                ...              ...  \n",
       "7472                 0                1  \n",
       "7479                 0                1  \n",
       "7486                 0                1  \n",
       "7488                 1                1  \n",
       "7491                 1                1  \n",
       "\n",
       "[1502 rows x 11 columns]"
      ]
     },
     "execution_count": 40,
     "metadata": {},
     "output_type": "execute_result"
    }
   ],
   "source": [
    "features_zeros = X_train_scaled[Y_train == 0]\n",
    "features_ones = X_train_scaled[Y_train == 1]\n",
    "target_zeros = X_train_scaled[Y_train == 0]\n",
    "target_ones = X_train_scaled[Y_train == 1]\n",
    "target_ones"
   ]
  },
  {
   "cell_type": "code",
   "execution_count": 41,
   "metadata": {},
   "outputs": [
    {
     "name": "stdout",
     "output_type": "stream",
     "text": [
      "соотношение классов: 0.998335552596538\n",
      "F1: 0.55\n"
     ]
    }
   ],
   "source": [
    "def upsample(X_train_scaled, y, repeat):\n",
    "    features_zeros = X_train_scaled[Y_train == 0]\n",
    "    features_ones = X_train_scaled[Y_train == 1]\n",
    "    target_zeros = Y_train[Y_train == 0]\n",
    "    target_ones = Y_train[Y_train == 1]\n",
    "\n",
    "    features_upsampled = pd.concat([features_zeros] + [features_ones] * repeat)\n",
    "    target_upsampled = pd.concat([target_zeros] + [target_ones] * repeat)\n",
    "    \n",
    "    features_upsampled, target_upsampled = shuffle(features_upsampled, target_upsampled, random_state=12345)\n",
    "    \n",
    "    return features_upsampled, target_upsampled\n",
    "\n",
    "\n",
    "features_upsampled, target_upsampled = upsample(X_train_scaled, Y_train, 4)\n",
    "\n",
    "model = RandomForestClassifier(random_state=12345)\n",
    "model.fit(features_upsampled,target_upsampled)\n",
    "\n",
    "predicted_valid = model.predict(X_test_scaled)\n",
    "\n",
    "repeat = (target_upsampled[target_upsampled==0].count()/target_upsampled[target_upsampled==1].count())\n",
    "print('соотношение классов:', repeat)\n",
    "\n",
    "print(\"F1:\", round(f1_score(Y_test, predicted_valid),2))"
   ]
  },
  {
   "cell_type": "code",
   "execution_count": 42,
   "metadata": {},
   "outputs": [
    {
     "data": {
      "image/png": "[encoded data removed]",
      "text/plain": [
       "<Figure size 432x432 with 1 Axes>"
      ]
     },
     "metadata": {},
     "output_type": "display_data"
    },
    {
     "name": "stdout",
     "output_type": "stream",
     "text": [
      "auc_roc = 0.8193427029083733\n"
     ]
    }
   ],
   "source": [
    "probabilities = model.predict_proba(X_test_scaled)\n",
    "probabilities_one_valid = probabilities[:,1]\n",
    "auc_roc = roc_auc_score(Y_test, probabilities_one_valid)\n",
    "fpr, tpr, thresholds = roc_curve(Y_test, probabilities_one_valid)\n",
    "plt.figure(figsize=(6, 6))\n",
    "plt.step(fpr, tpr, where='post')\n",
    "plt.xlabel('FPR')\n",
    "plt.ylabel('TPR')\n",
    "plt.ylim([0.0, 1.05])\n",
    "plt.xlim([0.0, 1.0])\n",
    "plt.title('Кривая ROC - RFC simple model')\n",
    "plt.show()\n",
    "print('auc_roc =', auc_roc)"
   ]
  },
  {
   "cell_type": "markdown",
   "metadata": {},
   "source": [
    "## Комментарий наставника\n",
    "<span style=\"color:green\">Замечательно, upsampling проведён верно.</span>"
   ]
  },
  {
   "cell_type": "code",
   "execution_count": 43,
   "metadata": {},
   "outputs": [
    {
     "data": {
      "text/html": [
       "<div>\n",
       "<style scoped>\n",
       "    .dataframe tbody tr th:only-of-type {\n",
       "        vertical-align: middle;\n",
       "    }\n",
       "\n",
       "    .dataframe tbody tr th {\n",
       "        vertical-align: top;\n",
       "    }\n",
       "\n",
       "    .dataframe thead th {\n",
       "        text-align: right;\n",
       "    }\n",
       "</style>\n",
       "<table border=\"1\" class=\"dataframe\">\n",
       "  <thead>\n",
       "    <tr style=\"text-align: right;\">\n",
       "      <th></th>\n",
       "      <th>type</th>\n",
       "      <th>criterion</th>\n",
       "      <th>max_depth</th>\n",
       "      <th>max_features</th>\n",
       "      <th>n_estimator</th>\n",
       "      <th>recall</th>\n",
       "      <th>precision</th>\n",
       "      <th>f1</th>\n",
       "      <th>class_weight</th>\n",
       "      <th>upsample</th>\n",
       "    </tr>\n",
       "  </thead>\n",
       "  <tbody>\n",
       "    <tr>\n",
       "      <td>1</td>\n",
       "      <td>model 1</td>\n",
       "      <td>entropy</td>\n",
       "      <td>15</td>\n",
       "      <td>auto</td>\n",
       "      <td>23</td>\n",
       "      <td>0.45</td>\n",
       "      <td>0.79</td>\n",
       "      <td>0.57</td>\n",
       "      <td>False</td>\n",
       "      <td>False</td>\n",
       "    </tr>\n",
       "    <tr>\n",
       "      <td>2</td>\n",
       "      <td>model 2: simple model without params</td>\n",
       "      <td>gini</td>\n",
       "      <td>None</td>\n",
       "      <td>auto</td>\n",
       "      <td>10</td>\n",
       "      <td>0.49</td>\n",
       "      <td>0.74</td>\n",
       "      <td>0.53</td>\n",
       "      <td>False</td>\n",
       "      <td>False</td>\n",
       "    </tr>\n",
       "    <tr>\n",
       "      <td>3</td>\n",
       "      <td>model 2: simple model without params</td>\n",
       "      <td>gini</td>\n",
       "      <td>None</td>\n",
       "      <td>auto</td>\n",
       "      <td>10</td>\n",
       "      <td>0.41</td>\n",
       "      <td>0.76</td>\n",
       "      <td>0.53</td>\n",
       "      <td>True</td>\n",
       "      <td>False</td>\n",
       "    </tr>\n",
       "    <tr>\n",
       "      <td>4</td>\n",
       "      <td>model 2: simple model without params</td>\n",
       "      <td>gini</td>\n",
       "      <td>None</td>\n",
       "      <td>auto</td>\n",
       "      <td>10</td>\n",
       "      <td>0.52</td>\n",
       "      <td>0.64</td>\n",
       "      <td>0.58</td>\n",
       "      <td>False</td>\n",
       "      <td>True</td>\n",
       "    </tr>\n",
       "  </tbody>\n",
       "</table>\n",
       "</div>"
      ],
      "text/plain": [
       "                                   type criterion max_depth max_features  \\\n",
       "1                               model 1   entropy        15         auto   \n",
       "2  model 2: simple model without params      gini      None         auto   \n",
       "3  model 2: simple model without params      gini      None         auto   \n",
       "4  model 2: simple model without params      gini      None         auto   \n",
       "\n",
       "  n_estimator  recall  precision    f1  class_weight  upsample  \n",
       "1          23    0.45       0.79  0.57         False     False  \n",
       "2          10    0.49       0.74  0.53         False     False  \n",
       "3          10    0.41       0.76  0.53          True     False  \n",
       "4          10    0.52       0.64  0.58         False      True  "
      ]
     },
     "execution_count": 43,
     "metadata": {},
     "output_type": "execute_result"
    }
   ],
   "source": [
    "result['upsample'] = False\n",
    "result.loc[4]=['model 2: simple model without params', 'gini',None,'auto', 10, 0.52, 0.64, 0.58, False, True]\n",
    "result"
   ]
  },
  {
   "cell_type": "code",
   "execution_count": 44,
   "metadata": {},
   "outputs": [
    {
     "name": "stdout",
     "output_type": "stream",
     "text": [
      "confusion_matrix\n",
      " [[1838  127]\n",
      " [ 282  253]]\n",
      "recall_score 0.47289719626168225\n",
      "precision_score 0.6657894736842105\n",
      "f1_score 0.5530054644808743\n",
      "Confusion matrix, without normalization\n",
      "[[1901   64]\n",
      " [ 294  241]]\n"
     ]
    },
    {
     "data": {
      "image/png": "[encoded data removed]",
      "text/plain": [
       "<Figure size 720x576 with 2 Axes>"
      ]
     },
     "metadata": {},
     "output_type": "display_data"
    }
   ],
   "source": [
    "main_param(Y_test,model.predict(X_test_scaled))\n",
    "\n",
    "#cnf_matrix = confusion_matrix(Y_test, model.predict(X_test_scaled))\n",
    "plt.figure(figsize=(10, 8))\n",
    "plot_confusion_matrix(cnf_matrix, classes=['0 - не ушел', '1 - ушёл'],title='Confusion matrix')\n",
    "plt.show()"
   ]
  },
  {
   "cell_type": "markdown",
   "metadata": {},
   "source": [
    "### Downsample\n",
    "\n",
    "Преобразование проходит в несколько этапов:\n",
    "* Разделить обучающую выборку на отрицательные и положительные объекты;\n",
    "* Случайным образом отбросить часть из отрицательных объектов;\n",
    "* С учётом полученных данных создать новую обучающую выборку;\n",
    "* Перемешать данные. Положительные не должны идти следом за отрицательными: алгоритмам будет сложнее обучаться."
   ]
  },
  {
   "cell_type": "code",
   "execution_count": 45,
   "metadata": {},
   "outputs": [
    {
     "data": {
      "text/plain": [
       "0.25"
      ]
     },
     "execution_count": 45,
     "metadata": {},
     "output_type": "execute_result"
    }
   ],
   "source": [
    "fraction = round((Y_train[Y_train==1].count()/Y_train[target==0].count()),2)\n",
    "fraction"
   ]
  },
  {
   "cell_type": "code",
   "execution_count": 46,
   "metadata": {},
   "outputs": [],
   "source": [
    "def downsample(features, target, fraction):\n",
    "    features_zeros = features[target == 0]\n",
    "    features_ones = features[target == 1]\n",
    "    target_zeros = target[target == 0]\n",
    "    target_ones = target[target == 1]\n",
    "\n",
    "    features_downsampled = pd.concat(\n",
    "        [features_zeros.sample(frac=fraction, random_state=12345)] + [features_ones])\n",
    "    target_downsampled = pd.concat(\n",
    "        [target_zeros.sample(frac=fraction, random_state=12345)] + [target_ones])\n",
    "    \n",
    "    features_downsampled, target_downsampled = shuffle(\n",
    "        features_downsampled, target_downsampled, random_state=12345)\n",
    "    \n",
    "    return features_downsampled, target_downsampled\n",
    "\n",
    "best_f1 = {}\n",
    "for i in np.arange(0.100,0.890,0.001):\n",
    "    features_downsampled, target_downsampled = downsample(X_train_scaled, Y_train, i)\n",
    "\n",
    "    model = RandomForestClassifier(random_state = 12345)\n",
    "    model.fit(features_downsampled,target_downsampled)\n",
    "    predicted_valid = model.predict(X_test_scaled)\n",
    "    best_f1[i] = f1_score(Y_test, predicted_valid)\n"
   ]
  },
  {
   "cell_type": "code",
   "execution_count": 47,
   "metadata": {},
   "outputs": [
    {
     "data": {
      "image/png": "[encoded data removed]",
      "text/plain": [
       "<Figure size 432x432 with 1 Axes>"
      ]
     },
     "metadata": {},
     "output_type": "display_data"
    },
    {
     "name": "stdout",
     "output_type": "stream",
     "text": [
      "auc_roc = 0.823255095003686\n"
     ]
    }
   ],
   "source": [
    "probabilities = model.predict_proba(X_test_scaled)\n",
    "probabilities_one_valid = probabilities[:,1]\n",
    "auc_roc = roc_auc_score(Y_test, probabilities_one_valid)\n",
    "fpr, tpr, thresholds = roc_curve(Y_test, probabilities_one_valid)\n",
    "plt.figure(figsize=(6, 6))\n",
    "plt.step(fpr, tpr, where='post')\n",
    "plt.xlabel('FPR')\n",
    "plt.ylabel('TPR')\n",
    "plt.ylim([0.0, 1.05])\n",
    "plt.xlim([0.0, 1.0])\n",
    "plt.title('Кривая ROC - RFC simple model')\n",
    "plt.show()\n",
    "print('auc_roc =', auc_roc)"
   ]
  },
  {
   "cell_type": "code",
   "execution_count": 48,
   "metadata": {},
   "outputs": [
    {
     "data": {
      "text/plain": [
       "0.42700000000000027"
      ]
     },
     "execution_count": 48,
     "metadata": {},
     "output_type": "execute_result"
    }
   ],
   "source": [
    "max_key = max(best_f1, key=best_f1.get)\n",
    "max_key"
   ]
  },
  {
   "cell_type": "code",
   "execution_count": 49,
   "metadata": {},
   "outputs": [
    {
     "data": {
      "text/html": [
       "<div>\n",
       "<style scoped>\n",
       "    .dataframe tbody tr th:only-of-type {\n",
       "        vertical-align: middle;\n",
       "    }\n",
       "\n",
       "    .dataframe tbody tr th {\n",
       "        vertical-align: top;\n",
       "    }\n",
       "\n",
       "    .dataframe thead th {\n",
       "        text-align: right;\n",
       "    }\n",
       "</style>\n",
       "<table border=\"1\" class=\"dataframe\">\n",
       "  <thead>\n",
       "    <tr style=\"text-align: right;\">\n",
       "      <th></th>\n",
       "      <th>type</th>\n",
       "      <th>criterion</th>\n",
       "      <th>max_depth</th>\n",
       "      <th>max_features</th>\n",
       "      <th>n_estimator</th>\n",
       "      <th>recall</th>\n",
       "      <th>precision</th>\n",
       "      <th>f1</th>\n",
       "      <th>class_weight</th>\n",
       "      <th>upsample</th>\n",
       "      <th>downsample</th>\n",
       "    </tr>\n",
       "  </thead>\n",
       "  <tbody>\n",
       "    <tr>\n",
       "      <td>1</td>\n",
       "      <td>model 1</td>\n",
       "      <td>entropy</td>\n",
       "      <td>15</td>\n",
       "      <td>auto</td>\n",
       "      <td>23</td>\n",
       "      <td>0.45</td>\n",
       "      <td>0.79</td>\n",
       "      <td>0.57</td>\n",
       "      <td>False</td>\n",
       "      <td>False</td>\n",
       "      <td>False</td>\n",
       "    </tr>\n",
       "    <tr>\n",
       "      <td>2</td>\n",
       "      <td>model 2: simple model without params</td>\n",
       "      <td>gini</td>\n",
       "      <td>None</td>\n",
       "      <td>auto</td>\n",
       "      <td>10</td>\n",
       "      <td>0.49</td>\n",
       "      <td>0.74</td>\n",
       "      <td>0.53</td>\n",
       "      <td>False</td>\n",
       "      <td>False</td>\n",
       "      <td>False</td>\n",
       "    </tr>\n",
       "    <tr>\n",
       "      <td>3</td>\n",
       "      <td>model 2: simple model without params</td>\n",
       "      <td>gini</td>\n",
       "      <td>None</td>\n",
       "      <td>auto</td>\n",
       "      <td>10</td>\n",
       "      <td>0.41</td>\n",
       "      <td>0.76</td>\n",
       "      <td>0.53</td>\n",
       "      <td>True</td>\n",
       "      <td>False</td>\n",
       "      <td>False</td>\n",
       "    </tr>\n",
       "    <tr>\n",
       "      <td>4</td>\n",
       "      <td>model 2: simple model without params</td>\n",
       "      <td>gini</td>\n",
       "      <td>None</td>\n",
       "      <td>auto</td>\n",
       "      <td>10</td>\n",
       "      <td>0.52</td>\n",
       "      <td>0.64</td>\n",
       "      <td>0.58</td>\n",
       "      <td>False</td>\n",
       "      <td>True</td>\n",
       "      <td>False</td>\n",
       "    </tr>\n",
       "    <tr>\n",
       "      <td>5</td>\n",
       "      <td>model 2: simple model without params</td>\n",
       "      <td>gini</td>\n",
       "      <td>None</td>\n",
       "      <td>auto</td>\n",
       "      <td>10</td>\n",
       "      <td>0.62</td>\n",
       "      <td>0.62</td>\n",
       "      <td>0.62</td>\n",
       "      <td>False</td>\n",
       "      <td>False</td>\n",
       "      <td>True</td>\n",
       "    </tr>\n",
       "  </tbody>\n",
       "</table>\n",
       "</div>"
      ],
      "text/plain": [
       "                                   type criterion max_depth max_features  \\\n",
       "1                               model 1   entropy        15         auto   \n",
       "2  model 2: simple model without params      gini      None         auto   \n",
       "3  model 2: simple model without params      gini      None         auto   \n",
       "4  model 2: simple model without params      gini      None         auto   \n",
       "5  model 2: simple model without params      gini      None         auto   \n",
       "\n",
       "  n_estimator  recall  precision    f1  class_weight  upsample  downsample  \n",
       "1          23    0.45       0.79  0.57         False     False       False  \n",
       "2          10    0.49       0.74  0.53         False     False       False  \n",
       "3          10    0.41       0.76  0.53          True     False       False  \n",
       "4          10    0.52       0.64  0.58         False      True       False  \n",
       "5          10    0.62       0.62  0.62         False     False        True  "
      ]
     },
     "execution_count": 49,
     "metadata": {},
     "output_type": "execute_result"
    }
   ],
   "source": [
    "result['downsample'] = False\n",
    "result.loc[5]=['model 2: simple model without params', 'gini',None,'auto', 10, 0.62, 0.62, 0.62, False, False, True]\n",
    "result"
   ]
  },
  {
   "cell_type": "code",
   "execution_count": 50,
   "metadata": {},
   "outputs": [
    {
     "name": "stdout",
     "output_type": "stream",
     "text": [
      "confusion_matrix\n",
      " [[1767  198]\n",
      " [ 205  330]]\n",
      "recall_score 0.616822429906542\n",
      "precision_score 0.625\n",
      "f1_score 0.6208842897460018\n",
      "Confusion matrix, without normalization\n",
      "[[1767  198]\n",
      " [ 205  330]]\n"
     ]
    },
    {
     "data": {
      "image/png": "[encoded data removed]",
      "text/plain": [
       "<Figure size 720x576 with 2 Axes>"
      ]
     },
     "metadata": {},
     "output_type": "display_data"
    }
   ],
   "source": [
    "features_downsampled, target_downsampled = downsample(X_train_scaled, Y_train, max_key)\n",
    "model = RandomForestClassifier(random_state = 12345)\n",
    "model.fit(features_downsampled,target_downsampled)\n",
    "predicted_valid = model.predict(X_test_scaled)\n",
    "#f1_score(target_scaled_valid, predicted_valid)\n",
    "\n",
    "main_param(Y_test, predicted_valid)\n",
    "cnf_matrix = confusion_matrix(Y_test, predicted_valid)\n",
    "plt.figure(figsize=(10, 8))\n",
    "plot_confusion_matrix(cnf_matrix, classes=['0 - не ушел', '1 - ушёл'],title='Confusion matrix')\n",
    "plt.show()"
   ]
  },
  {
   "cell_type": "markdown",
   "metadata": {},
   "source": [
    "### Вывод\n",
    "Максимальное значение f1 получено при downsample = 0.62. При исаользовании метода Upsample было получено значение 0.55. Да, оба метода дают прирост по метрике f1, но наибольший прирост был при downsample. Следующим шагом должен быть поиск оптимальных гиперпараметров."
   ]
  },
  {
   "cell_type": "markdown",
   "metadata": {},
   "source": [
    "### Подбор параметров модели по обновленому сету данных"
   ]
  },
  {
   "cell_type": "code",
   "execution_count": 51,
   "metadata": {},
   "outputs": [
    {
     "name": "stdout",
     "output_type": "stream",
     "text": [
      "\n",
      "best_params_ \n",
      " {'criterion': 'gini', 'max_depth': 7, 'max_features': 'auto', 'n_estimators': 43}\n",
      "\n",
      "best_score \n",
      " 0.7107160161406747\n",
      "CPU times: user 19min 15s, sys: 4.37 s, total: 19min 19s\n",
      "Wall time: 19min 22s\n"
     ]
    }
   ],
   "source": [
    "%%time\n",
    "rfc = RandomForestClassifier(class_weight='balanced', random_state=12345)\n",
    "param_grid = {'n_estimators': range(1, 50, 2)\\\n",
    "              ,'max_features': ['auto']\\\n",
    "              ,'max_depth' : range(1, 50, 2)\\\n",
    "              ,'criterion' : ['gini', 'entropy']\\\n",
    "             }\n",
    "grid_cv = GridSearchCV(rfc, param_grid, scoring='f1', cv=5)\n",
    "\n",
    "grid_cv.fit(features_downsampled,target_downsampled)\n",
    "print('\\nbest_params_ \\n', grid_cv.best_params_)\n",
    "print('\\nbest_score \\n', grid_cv.best_score_)"
   ]
  },
  {
   "cell_type": "markdown",
   "metadata": {},
   "source": [
    "### Вывод\n",
    "Параметры найдены, требуется протестировать данную модель"
   ]
  },
  {
   "cell_type": "markdown",
   "metadata": {},
   "source": [
    "В отличии от предыдущей версии, вследствии правильного масштабирования результат модели изменился и мера f1 дала результат 0.71, что на десятую часть лучше предыдущих результатов. Количество деревьев возросло до 43, а глубина уменьшилась до 7, критерий - gini. Такаим образом, данная модель показала наилучший результат. Влияние дисбаланса классов, очень сильно сказывалось на качестве модели."
   ]
  },
  {
   "cell_type": "markdown",
   "metadata": {},
   "source": [
    "# 4. Тестирование модели"
   ]
  },
  {
   "cell_type": "markdown",
   "metadata": {},
   "source": [
    "### Проверка"
   ]
  },
  {
   "cell_type": "markdown",
   "metadata": {},
   "source": [
    "По обновленному data set, по которому была произведена балансировка и получены гиперпараметры лучшей модели по метрике f1=0.71 сделаем модель и проверим её"
   ]
  },
  {
   "cell_type": "code",
   "execution_count": 52,
   "metadata": {},
   "outputs": [
    {
     "name": "stdout",
     "output_type": "stream",
     "text": [
      "confusion_matrix\n",
      " [[1810  155]\n",
      " [ 218  317]]\n",
      "recall_score 0.5925233644859813\n",
      "precision_score 0.6716101694915254\n",
      "f1_score 0.6295928500496524\n",
      "Confusion matrix, without normalization\n",
      "[[1810  155]\n",
      " [ 218  317]]\n"
     ]
    },
    {
     "data": {
      "image/png": "[encoded data removed]",
      "text/plain": [
       "<Figure size 720x576 with 2 Axes>"
      ]
     },
     "metadata": {},
     "output_type": "display_data"
    }
   ],
   "source": [
    "model = RandomForestClassifier(\\\n",
    "                               criterion='gini',\\\n",
    "                               max_depth=7,\\\n",
    "                               max_features='auto',\\\n",
    "                               n_estimators=43,\\\n",
    "                               #class_weight='balanced',\\\n",
    "                               random_state=12345\\\n",
    "                              )\n",
    "model.fit(features_downsampled,target_downsampled)\n",
    "\n",
    "predicted_valid = model.predict(X_test_scaled)\n",
    "\n",
    "main_param(Y_test, predicted_valid)\n",
    "\n",
    "cnf_matrix = confusion_matrix(Y_test, predicted_valid)\n",
    "plt.figure(figsize=(10, 8))\n",
    "plot_confusion_matrix(cnf_matrix, classes=['0 - не ушел', '1 - ушёл'],title='Confusion matrix')\n",
    "plt.show()"
   ]
  },
  {
   "cell_type": "markdown",
   "metadata": {},
   "source": [
    "На графике отчётливо видно, что предсказательная характеристика улучшилась, но не достигает того же результата, что при кроссвалидации, разница в 10 процентах."
   ]
  },
  {
   "cell_type": "code",
   "execution_count": 53,
   "metadata": {},
   "outputs": [
    {
     "data": {
      "image/png": "[encoded data removed]",
      "text/plain": [
       "<Figure size 432x432 with 1 Axes>"
      ]
     },
     "metadata": {},
     "output_type": "display_data"
    },
    {
     "name": "stdout",
     "output_type": "stream",
     "text": [
      "auc_roc = 0.8600494637464032\n"
     ]
    }
   ],
   "source": [
    "probabilities = model.predict_proba(X_test_scaled)\n",
    "probabilities_one_valid = probabilities[:,1]\n",
    "auc_roc = roc_auc_score(Y_test, probabilities_one_valid)\n",
    "fpr, tpr, thresholds = roc_curve(Y_test, probabilities_one_valid)\n",
    "plt.figure(figsize=(6, 6))\n",
    "plt.step(fpr, tpr, where='post')\n",
    "plt.xlabel('FPR')\n",
    "plt.ylabel('TPR')\n",
    "plt.ylim([0.0, 1.05])\n",
    "plt.xlim([0.0, 1.0])\n",
    "plt.title('Кривая ROC')\n",
    "plt.show()\n",
    "print('auc_roc =', auc_roc)"
   ]
  },
  {
   "cell_type": "markdown",
   "metadata": {},
   "source": [
    "### Вывод\n",
    "Метрика auc_roc больше случайной модели, что говорит о её адекватности и правильности. "
   ]
  },
  {
   "cell_type": "markdown",
   "metadata": {},
   "source": [
    "# Общий итог\n",
    "Была расмотрена структура RandomForestClassifier на основе которой были получены модели и наилучшие результаты показала модель найденая с помощью gridSearch('criterion': 'gini', 'max_depth': 7, 'max_features': 'auto', 'n_estimators': 43), но обученная на новом датасете, который был подвергнут downsample, т.е. был получен баланс классов за счет случайного удаления записей. Аналогичная методика балансировки методом upsample не дала значимого прироста по f1 мере. В прошлой версии данного проекта, наилучший результат дала модель юез гиперпараметров.\n",
    "\n",
    "Изначальный сет данных был преобразован и из него были убраны идентификаторы, числовые данные масштабированы, за исключением булевых признаков. Параметр \"class_weight\" не дал существенного резульатата модели. Итоговая модель имеет значение меры f1=0.63, что превышает пороговое значение текущего проекта. Метрика AUC-ROC также оказалась выше случайной модели на 0.36, что показывает качество полученной модели. Также стоит заметить, что модель на кроссвалидации получила метрику f1=0.72, а при обучении модели на данных гиперпараметрах метрика f1=0.63."
   ]
  }
 ],
 "metadata": {
  "kernelspec": {
   "display_name": "Python 3",
   "language": "python",
   "name": "python3"
  },
  "language_info": {
   "codemirror_mode": {
    "name": "ipython",
    "version": 3
   },
   "file_extension": ".py",
   "mimetype": "text/x-python",
   "name": "python",
   "nbconvert_exporter": "python",
   "pygments_lexer": "ipython3",
   "version": "3.7.3"
  }
 },
 "nbformat": 4,
 "nbformat_minor": 2
}
